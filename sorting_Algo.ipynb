{
 "cells": [
  {
   "cell_type": "code",
   "execution_count": 7,
   "id": "1a1bfc1d-10b5-44a9-914d-906e59c644c9",
   "metadata": {},
   "outputs": [
    {
     "name": "stdout",
     "output_type": "stream",
     "text": [
      "[2, 3, 4, 4, 4, 5, 24]\n"
     ]
    }
   ],
   "source": [
    "arr = [4,5,3,2,24,4,4]\n",
    "n =len(arr)\n",
    "for i in range(0,n-1):\n",
    "    mini = i\n",
    "    for j in range(i+1,n):\n",
    "        if arr[j]<arr[mini]:\n",
    "            mini = j\n",
    "    arr[i],arr[mini] = arr[mini],arr[i]\n",
    "print(arr)"
   ]
  },
  {
   "cell_type": "markdown",
   "id": "baaa6f2c-ae83-4d5a-84eb-3bed0f795ac9",
   "metadata": {},
   "source": [
    "### SELECTION SORT"
   ]
  },
  {
   "cell_type": "code",
   "execution_count": 19,
   "id": "4e869fc8-c361-4bc1-8a66-625ab19dd1c2",
   "metadata": {},
   "outputs": [
    {
     "name": "stdout",
     "output_type": "stream",
     "text": [
      "[2, 4, 6, 17]\n"
     ]
    }
   ],
   "source": [
    "class Solution:\n",
    "    def selectionSort(self, nums):\n",
    "        n= len(nums)\n",
    "        for i in range(0,n-1):\n",
    "            mini = i\n",
    "            for j in range(i+1,n):\n",
    "                if nums[j]<nums[i]:\n",
    "                    mini =j\n",
    "            nums[i],nums[mini] = nums[mini],nums[i]\n",
    "obj = Solution()\n",
    "gk =[4,2,6,17]\n",
    "obj.selectionSort(gk)\n",
    "print(gk)\n"
   ]
  },
  {
   "cell_type": "code",
   "execution_count": 21,
   "id": "83417a9d-6ec0-4fbd-bfd9-a65b8fee9910",
   "metadata": {},
   "outputs": [
    {
     "name": "stdout",
     "output_type": "stream",
     "text": [
      "[2, 4, 16, 17]\n"
     ]
    }
   ],
   "source": [
    "class Solution:\n",
    "    def selectionSort(self, nums):\n",
    "        n = len(nums)\n",
    "        for i in range(n - 1):\n",
    "            mini = i\n",
    "            for j in range(i + 1, n):\n",
    "                if nums[j] < nums[mini]:\n",
    "                    mini = j\n",
    "            nums[i], nums[mini] = nums[mini], nums[i]\n",
    "obj = Solution()\n",
    "gk =[4,2,16,17]\n",
    "obj.selectionSort(gk)\n",
    "print(gk)"
   ]
  },
  {
   "cell_type": "markdown",
   "id": "00756fcd-e41e-4b12-8c75-685f81422c50",
   "metadata": {},
   "source": [
    "### Bubble Sort"
   ]
  },
  {
   "cell_type": "code",
   "execution_count": 20,
   "id": "f5c0aaf3-25e2-4ce9-bf95-6b0bd6bafe31",
   "metadata": {},
   "outputs": [
    {
     "name": "stdout",
     "output_type": "stream",
     "text": [
      "[1, 2, 3, 4]\n"
     ]
    }
   ],
   "source": [
    "def bubble_sort(arr):\n",
    "    n = len(arr)\n",
    "    for i in range(0,n-1):\n",
    "        for j in range(0,n-i-1):\n",
    "            if arr[j]>arr[j+1]:\n",
    "                temp = arr[j+1]\n",
    "                arr[j+1]=arr[j]\n",
    "                arr[j] = temp\n",
    "ar =[1,3,4,2]\n",
    "bubble_sort(ar)\n",
    "print(ar)\n",
    "            "
   ]
  },
  {
   "cell_type": "code",
   "execution_count": 1,
   "id": "8e608536-9b0b-487e-b449-4550c2d6c0d5",
   "metadata": {},
   "outputs": [
    {
     "name": "stdout",
     "output_type": "stream",
     "text": [
      "[2, 3, 4, 5]\n"
     ]
    }
   ],
   "source": [
    "## so in case of having array already sort i need to perform an action so i would optimized this code to make 0(n) time complexity\n",
    "\n",
    "def bubble_sort(arr):\n",
    "    n = len(arr)\n",
    "    for i in range(0,n-1):\n",
    "        swaped = False\n",
    "        for j in range(0,n-i-1):\n",
    "            if arr[j]>arr[j+1]:\n",
    "                arr[j],arr[j+1] = arr[j+1],arr[j]\n",
    "                swaped = True\n",
    "        if not swaped:\n",
    "            break\n",
    "ar =[2,3,4,5]\n",
    "bubble_sort(ar)\n",
    "print(ar)\n"
   ]
  },
  {
   "cell_type": "code",
   "execution_count": 5,
   "id": "5cf42fe1-59e0-43cf-afa0-df7fc8903610",
   "metadata": {},
   "outputs": [
    {
     "name": "stdout",
     "output_type": "stream",
     "text": [
      "[2, 4, 6, 7]\n"
     ]
    }
   ],
   "source": [
    "class Solution:\n",
    "    def bubbleSort(self, nums):\n",
    "        n= len(nums)\n",
    "        for i in range(0,n-1):\n",
    "            swapped =False\n",
    "            for j in range(0,n-i-1):\n",
    "                if nums[j]>nums[j+1]:\n",
    "                    nums[j],nums[j+1] = nums[j+1],nums[j]\n",
    "                swapped = True\n",
    "            if not swapped:\n",
    "                break\n",
    "obj = Solution()\n",
    "gk = [4,2,6,7]\n",
    "obj.bubbleSort(gk)\n",
    "print(gk)"
   ]
  },
  {
   "cell_type": "markdown",
   "id": "bcc2bb8a-c97d-4d6d-ba68-dc1449e59dd2",
   "metadata": {},
   "source": [
    "###  insertion sort"
   ]
  },
  {
   "cell_type": "code",
   "execution_count": 18,
   "id": "8ee90f11-7d0b-41e9-97e6-d07ca640815c",
   "metadata": {},
   "outputs": [
    {
     "name": "stdout",
     "output_type": "stream",
     "text": [
      "[5, 6, 12, 7]\n"
     ]
    }
   ],
   "source": [
    "def insertion_sort(arr):\n",
    "    n= len(arr)\n",
    "    for i in range(0,n-1):\n",
    "        j=i\n",
    "        while(j>0 and arr[j-1]>arr[j]):\n",
    "            arr[j],arr[j-1] = arr[j-1],arr[j]\n",
    "            j -=1\n",
    "gh = [12,5,6,7]\n",
    "insertion_sort(gh)\n",
    "print(gh)"
   ]
  },
  {
   "cell_type": "code",
   "execution_count": 32,
   "id": "e19f868d-40bf-4480-bfee-c7586dba1eeb",
   "metadata": {},
   "outputs": [
    {
     "name": "stdout",
     "output_type": "stream",
     "text": [
      "[1, 2, 2, 4, 5, 62]\n"
     ]
    }
   ],
   "source": [
    "class Solution:\n",
    "    def insertionSort(self, nums):\n",
    "        n= len(nums)\n",
    "        for i in range(0,n):\n",
    "            j=i\n",
    "            while(j>0 and nums[j-1]>nums[j]):\n",
    "                temp = nums[j]\n",
    "                nums[j] = nums[j - 1]\n",
    "                nums[j - 1] = temp\n",
    "                j -= 1\n",
    "obj = Solution()\n",
    "gk = [4,5,62,2,2,1]\n",
    "obj.insertionSort(gk)\n",
    "print(gk)"
   ]
  },
  {
   "cell_type": "code",
   "execution_count": 30,
   "id": "8cae29fc-523c-4489-9148-dce6484385f3",
   "metadata": {},
   "outputs": [
    {
     "name": "stdout",
     "output_type": "stream",
     "text": [
      "[1, 2, 2, 4, 5, 62]\n"
     ]
    }
   ],
   "source": [
    "def insertion_sort(arr):\n",
    "    n = len(arr)\n",
    "    for i in range(1, n):\n",
    "        j = i\n",
    "        while j > 0 and arr[j - 1] > arr[j]:\n",
    "            # Using temp variable\n",
    "            temp = arr[j]\n",
    "            arr[j] = arr[j - 1]\n",
    "            arr[j - 1] = temp\n",
    "            j -= 1\n",
    "\n",
    "gh = [4,5,62,2,2,1]\n",
    "insertion_sort(gh)\n",
    "print(gh)\n"
   ]
  },
  {
   "cell_type": "markdown",
   "id": "e76c69f9-5d71-4271-841c-560f2072697a",
   "metadata": {},
   "source": [
    "### MERGE SORT"
   ]
  },
  {
   "cell_type": "code",
   "execution_count": 2,
   "id": "20b011c4-c73b-4886-ac51-b7ca7872d785",
   "metadata": {},
   "outputs": [
    {
     "name": "stdout",
     "output_type": "stream",
     "text": [
      "[0, 3, 4, 5, 6, 8, 9, 9, 9]\n"
     ]
    }
   ],
   "source": [
    "def merge_sort(arr):\n",
    "    if len(arr)>1:\n",
    "        mid = len(arr)//2\n",
    "        left = arr[:mid]\n",
    "        right = arr[mid:]\n",
    "\n",
    "\n",
    "        merge_sort(left)\n",
    "        merge_sort(right)\n",
    "\n",
    "\n",
    "        i=j=k=0\n",
    "\n",
    "        while i<len(left) and j<len(right):\n",
    "            if left[i]<right[j]:\n",
    "                arr[k]=left[i]\n",
    "                i +=1\n",
    "            else:\n",
    "                arr[k] = right[j]\n",
    "                j+=1\n",
    "            k+=1\n",
    "        while i<len(left):\n",
    "            arr[k] = left[i]\n",
    "            i+=1\n",
    "            k+=1\n",
    "\n",
    "        while j<len(right):\n",
    "            arr[k]=right[j]\n",
    "            j+=1\n",
    "            k+=1\n",
    "\n",
    "arr =[3,4,5,6,8,9,9,0,9]\n",
    "merge_sort(arr)\n",
    "print(arr)"
   ]
  },
  {
   "cell_type": "markdown",
   "id": "f0207027-2565-4c60-bb24-b3cea03cb849",
   "metadata": {},
   "source": [
    "### quick sort"
   ]
  },
  {
   "cell_type": "code",
   "execution_count": 5,
   "id": "3ae1269c-ec3c-404a-9ec7-bba88a121270",
   "metadata": {},
   "outputs": [
    {
     "name": "stdout",
     "output_type": "stream",
     "text": [
      "[2, 3, 5, 6, 8, 9]\n"
     ]
    }
   ],
   "source": [
    "class Solution:\n",
    "    def sortArray(self, nums):\n",
    "        self.quickSort(nums, 0, len(nums) - 1)\n",
    "        return nums\n",
    "\n",
    "    def quickSort(self, nums, low, high):\n",
    "        if low < high:\n",
    "            pi = self.partition(nums, low, high)\n",
    "            self.quickSort(nums, low, pi - 1)\n",
    "            self.quickSort(nums, pi + 1, high)\n",
    "\n",
    "    def partition(self, nums, low, high):\n",
    "        pivot = nums[high]\n",
    "        i = low - 1\n",
    "\n",
    "        for j in range(low, high):\n",
    "            if nums[j] < pivot:\n",
    "                i += 1\n",
    "                nums[i], nums[j] = nums[j], nums[i]\n",
    "\n",
    "        nums[i + 1], nums[high] = nums[high], nums[i + 1]\n",
    "        return i + 1\n",
    "sol = Solution()\n",
    "arr = [6, 3, 9, 5, 2, 8]\n",
    "print(sol.sortArray(arr))\n"
   ]
  },
  {
   "cell_type": "code",
   "execution_count": null,
   "id": "d2eea95e-8d0c-4747-8c0a-05caebd428a2",
   "metadata": {},
   "outputs": [],
   "source": []
  }
 ],
 "metadata": {
  "kernelspec": {
   "display_name": "Python 3 (ipykernel)",
   "language": "python",
   "name": "python3"
  },
  "language_info": {
   "codemirror_mode": {
    "name": "ipython",
    "version": 3
   },
   "file_extension": ".py",
   "mimetype": "text/x-python",
   "name": "python",
   "nbconvert_exporter": "python",
   "pygments_lexer": "ipython3",
   "version": "3.12.4"
  },
  "widgets": {
   "application/vnd.jupyter.widget-state+json": {
    "state": {},
    "version_major": 2,
    "version_minor": 0
   }
  }
 },
 "nbformat": 4,
 "nbformat_minor": 5
}
