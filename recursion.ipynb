{
 "cells": [
  {
   "cell_type": "code",
   "execution_count": 7,
   "id": "1268616c-2928-409c-bf26-c95afa572643",
   "metadata": {},
   "outputs": [
    {
     "name": "stdout",
     "output_type": "stream",
     "text": [
      "Rahul\n",
      "Rahul\n",
      "Rahul\n"
     ]
    }
   ],
   "source": [
    "n=3\n",
    "def name(i,n):\n",
    "    if i>n:\n",
    "        return\n",
    "    print(\"Rahul\")\n",
    "    name(i+1,n)\n",
    "name(1,n)"
   ]
  },
  {
   "cell_type": "code",
   "execution_count": 9,
   "id": "8e2cce00-9438-41cd-b342-cd324b67560b",
   "metadata": {},
   "outputs": [
    {
     "name": "stdout",
     "output_type": "stream",
     "text": [
      "1\n",
      "2\n",
      "3\n",
      "4\n"
     ]
    }
   ],
   "source": [
    "n=4\n",
    "def f(i,n):\n",
    "    if i>n:\n",
    "        return\n",
    "    print(i)\n",
    "    f(i+1,n)\n",
    "f(1,n)"
   ]
  },
  {
   "cell_type": "code",
   "execution_count": 11,
   "id": "f448f7ae-3164-4353-beda-59d2a8fc7087",
   "metadata": {},
   "outputs": [
    {
     "name": "stdout",
     "output_type": "stream",
     "text": [
      "10\n",
      "9\n",
      "8\n",
      "7\n",
      "6\n",
      "5\n",
      "4\n",
      "3\n",
      "2\n",
      "1\n"
     ]
    }
   ],
   "source": [
    "n=3\n",
    "def f1(i,n):\n",
    "    if i<1:\n",
    "        return \n",
    "    print(i)\n",
    "    f1(i-1,n)\n",
    "f1(10,n)"
   ]
  },
  {
   "cell_type": "code",
   "execution_count": 35,
   "id": "8410c5d4-edba-4581-a4e2-74b423abab27",
   "metadata": {},
   "outputs": [
    {
     "name": "stdout",
     "output_type": "stream",
     "text": [
      "6\n"
     ]
    }
   ],
   "source": [
    "#parametrized way for finding sum using recursion\n",
    "def sum1(i,sum):\n",
    "    if i<1:\n",
    "        print(sum)\n",
    "        return\n",
    "    sum1(i-1,sum+i)\n",
    "i=3\n",
    "sum1(i,0)\n"
   ]
  },
  {
   "cell_type": "code",
   "execution_count": 5,
   "id": "7e875127-902c-4a77-adc5-68891f70b9eb",
   "metadata": {},
   "outputs": [
    {
     "data": {
      "text/plain": [
       "6"
      ]
     },
     "execution_count": 5,
     "metadata": {},
     "output_type": "execute_result"
    }
   ],
   "source": [
    "# now i have to write funtional approch to find out the sum of first n natural number\n",
    "def sum2(n):\n",
    "    if n==0:\n",
    "        return 0\n",
    "    return n+ sum2(n-1)\n",
    "sum2(3)\n"
   ]
  },
  {
   "cell_type": "code",
   "execution_count": 21,
   "id": "629e3ecc-6468-4878-8a96-bcf332197cb4",
   "metadata": {},
   "outputs": [
    {
     "name": "stdin",
     "output_type": "stream",
     "text": [
      "enter number to calculate factorial of that number:  0\n"
     ]
    },
    {
     "data": {
      "text/plain": [
       "1"
      ]
     },
     "execution_count": 21,
     "metadata": {},
     "output_type": "execute_result"
    }
   ],
   "source": [
    "# factorial using recursion\n",
    "def fact(n):\n",
    "    if n==0:\n",
    "        return 1\n",
    "    return n*fact(n-1)\n",
    "num =int(input(\"enter number to calculate factorial of that number: \"))\n",
    "fact(num)"
   ]
  },
  {
   "cell_type": "code",
   "execution_count": 34,
   "id": "647eb9e2-210b-4d88-91d2-6514b65423d2",
   "metadata": {},
   "outputs": [
    {
     "data": {
      "text/plain": [
       "6"
      ]
     },
     "execution_count": 34,
     "metadata": {},
     "output_type": "execute_result"
    }
   ],
   "source": [
    "class Solution:\n",
    "    def NnumbersSum(self, N):\n",
    "        if N==0:\n",
    "            return 0\n",
    "        return N+self.NnumbersSum(N-1)\n",
    "obj=Solution()\n",
    "obj.NnumbersSum(3)\n"
   ]
  },
  {
   "cell_type": "code",
   "execution_count": 44,
   "id": "0da9eec7-c3fd-49a2-9669-cbef66afaf28",
   "metadata": {},
   "outputs": [
    {
     "data": {
      "text/plain": [
       "24"
      ]
     },
     "execution_count": 44,
     "metadata": {},
     "output_type": "execute_result"
    }
   ],
   "source": [
    "class Solution:\n",
    "    def factorial(self, n):\n",
    "        if n==0:\n",
    "            return 1\n",
    "        return n*self.factorial(n-1)\n",
    "obj = Solution()\n",
    "obj.factorial(4)"
   ]
  },
  {
   "cell_type": "code",
   "execution_count": 64,
   "id": "201ec39a-95aa-4273-b9c4-84e7a6f135f0",
   "metadata": {},
   "outputs": [
    {
     "name": "stdout",
     "output_type": "stream",
     "text": [
      "[6, 5, 2, 4, 2, 5, 4]\n"
     ]
    }
   ],
   "source": [
    "a =[4,5,2,4,2,5,6]\n",
    "def rev(l,m):\n",
    "    if (l>=m):\n",
    "        return\n",
    "    a[l],a[m] = a[m],a[l]\n",
    "    rev(l+1,m-1)\n",
    "rev(0,len(a)-1)\n",
    "print(a)"
   ]
  },
  {
   "cell_type": "code",
   "execution_count": 5,
   "id": "38179fe7-f5b0-42c1-8806-da6f4957c69d",
   "metadata": {},
   "outputs": [
    {
     "name": "stdout",
     "output_type": "stream",
     "text": [
      "[6, 5, 6, 4, 4, 2, 5, 4]\n"
     ]
    }
   ],
   "source": [
    "n=[4,5,2,4,4,6,5,6]\n",
    "def reve(i):\n",
    "    if (i>=len(n)/2):\n",
    "        return \n",
    "    n[i],n[len(n)-i-1] = n[len(n)-i-1],n[i]\n",
    "    reve(i+1)\n",
    "    \n",
    "reve(0)\n",
    "print(n)"
   ]
  },
  {
   "cell_type": "code",
   "execution_count": 13,
   "id": "4fd04cee-0236-421e-a417-65b6ff74e507",
   "metadata": {},
   "outputs": [
    {
     "data": {
      "text/plain": [
       "False"
      ]
     },
     "execution_count": 13,
     "metadata": {},
     "output_type": "execute_result"
    }
   ],
   "source": [
    "#palindrome string checking\n",
    "def pal(i,s):\n",
    "    if i>=len(s)/2:\n",
    "        return True\n",
    "    if s[i] !=s[len(s)-i-1]:\n",
    "        return False\n",
    "    return pal(i+1,s)\n",
    "pal(0,\"madam\")        \n",
    "        \n"
   ]
  },
  {
   "cell_type": "code",
   "execution_count": 49,
   "id": "74fa6775-c139-472b-b52b-b75434b06bcd",
   "metadata": {},
   "outputs": [
    {
     "name": "stdout",
     "output_type": "stream",
     "text": [
      "[6, 5, 4, 3, 2]\n"
     ]
    }
   ],
   "source": [
    "class Solution:\n",
    "    def reverse(self, arr, n):\n",
    "        self.arr = arr\n",
    "        self.n =n\n",
    "        \n",
    "        if n>=len(arr)//2:\n",
    "            return \n",
    "        arr[n],arr[len(arr)-n-1] = arr[len(arr)-n-1],arr[n]\n",
    "        self.reverse(arr,n+1)\n",
    "arr = [2,3,4,5,6]\n",
    "obj = Solution()\n",
    "obj.reverse(arr,0)\n",
    "print(arr)"
   ]
  },
  {
   "cell_type": "code",
   "execution_count": 77,
   "id": "94bac94d-569a-418a-9346-806d51883850",
   "metadata": {},
   "outputs": [
    {
     "data": {
      "text/plain": [
       "True"
      ]
     },
     "execution_count": 77,
     "metadata": {},
     "output_type": "execute_result"
    }
   ],
   "source": [
    "class Solution:    \n",
    "    def palindromeCheck(self, s):\n",
    "        if s[::]==s[::-1]:\n",
    "            return True\n",
    "        return False\n",
    "obj= Solution()\n",
    "obj.palindromeCheck('hannah')"
   ]
  },
  {
   "cell_type": "code",
   "execution_count": 85,
   "id": "18d420c9-156f-4ad0-9569-b14b2339cfba",
   "metadata": {},
   "outputs": [
    {
     "data": {
      "text/plain": [
       "1"
      ]
     },
     "execution_count": 85,
     "metadata": {},
     "output_type": "execute_result"
    }
   ],
   "source": [
    "def fib(n):\n",
    "    if n<=1:\n",
    "        return n\n",
    "    last =fib(n-1)\n",
    "    slast =fib(n-2)\n",
    "    return last+slast\n",
    "fib(2)"
   ]
  },
  {
   "cell_type": "code",
   "execution_count": null,
   "id": "a1abed03-84d8-420d-8cb5-d9fcfbc5812c",
   "metadata": {},
   "outputs": [],
   "source": []
  }
 ],
 "metadata": {
  "kernelspec": {
   "display_name": "Python 3 (ipykernel)",
   "language": "python",
   "name": "python3"
  },
  "language_info": {
   "codemirror_mode": {
    "name": "ipython",
    "version": 3
   },
   "file_extension": ".py",
   "mimetype": "text/x-python",
   "name": "python",
   "nbconvert_exporter": "python",
   "pygments_lexer": "ipython3",
   "version": "3.12.4"
  },
  "widgets": {
   "application/vnd.jupyter.widget-state+json": {
    "state": {},
    "version_major": 2,
    "version_minor": 0
   }
  }
 },
 "nbformat": 4,
 "nbformat_minor": 5
}
