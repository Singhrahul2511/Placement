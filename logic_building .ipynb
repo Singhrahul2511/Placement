{
 "cells": [
  {
   "cell_type": "code",
   "execution_count": 1,
   "id": "65262eb4-3da2-4055-8c44-0ad1bcb71b89",
   "metadata": {},
   "outputs": [
    {
     "name": "stdin",
     "output_type": "stream",
     "text": [
      "Enter any number:  432\n"
     ]
    },
    {
     "name": "stdout",
     "output_type": "stream",
     "text": [
      "3\n"
     ]
    }
   ],
   "source": [
    "n= int(input(\"Enter any number: \"))\n",
    "l =[]\n",
    "count =0\n",
    "while n>0:\n",
    "    last = n%10\n",
    "    n=n//10\n",
    "    l.append(last)\n",
    "for i in l:\n",
    "    count+=1\n",
    "print(count)\n",
    "    \n",
    "    \n",
    "    "
   ]
  },
  {
   "cell_type": "code",
   "execution_count": 3,
   "id": "e355e777-5ca8-420c-9796-6349eea30ff9",
   "metadata": {},
   "outputs": [
    {
     "name": "stdin",
     "output_type": "stream",
     "text": [
      "Enter no.  42\n"
     ]
    },
    {
     "name": "stdout",
     "output_type": "stream",
     "text": [
      "24"
     ]
    }
   ],
   "source": [
    "n=int(input(\"Enter no. \"))\n",
    "while n>0:\n",
    "    last =n%10\n",
    "    n =n//10\n",
    "    print(last, end ='')"
   ]
  },
  {
   "cell_type": "code",
   "execution_count": 5,
   "id": "f0269c6b-9552-4daf-88f4-1057e25f1e2a",
   "metadata": {},
   "outputs": [
    {
     "name": "stdout",
     "output_type": "stream",
     "text": [
      "234\n"
     ]
    }
   ],
   "source": [
    "class Solution:\n",
    "    def reverseNumber(self, n):\n",
    "        reverse =0\n",
    "        while n>0:\n",
    "            last =n%10\n",
    "            n=n//10\n",
    "            reverse =(reverse*10)+last\n",
    "        print(reverse)\n",
    "obj = Solution()\n",
    "obj.reverseNumber(432)"
   ]
  },
  {
   "cell_type": "code",
   "execution_count": 1,
   "id": "790c7109-2901-49d7-ae3b-01191872988a",
   "metadata": {},
   "outputs": [
    {
     "name": "stdout",
     "output_type": "stream",
     "text": [
      "[1, 2, 3, 4, 6, 9, 12, 18, 36]\n"
     ]
    }
   ],
   "source": [
    "class Solution:\n",
    "    def divisors(self, n):\n",
    "        l = []\n",
    "        for i in range(1, int(abs(n**0.5)) + 1):\n",
    "            if n % i == 0:\n",
    "                l.append(i)\n",
    "                if i != n // i:\n",
    "                    l.append(n // i)\n",
    "        return sorted(l)  # ✅ return instead of print\n",
    "\n",
    "obj = Solution()\n",
    "print(obj.divisors(36))  # Now it prints: [1, 13]\n"
   ]
  },
  {
   "cell_type": "markdown",
   "id": "6fb99683-d7f5-4432-a12f-3a787dfed565",
   "metadata": {},
   "source": [
    "### palindrome check"
   ]
  },
  {
   "cell_type": "code",
   "execution_count": 12,
   "id": "0b1c2c94-5318-4880-a1e3-90a210cf0fb8",
   "metadata": {},
   "outputs": [
    {
     "name": "stdin",
     "output_type": "stream",
     "text": [
      "Enter any number to check palindrome or not:  95555555555555555555555555555555555555555555555555555555555555555555555555555555555555555555555555555555555555555\n"
     ]
    },
    {
     "data": {
      "text/plain": [
       "False"
      ]
     },
     "execution_count": 12,
     "metadata": {},
     "output_type": "execute_result"
    }
   ],
   "source": [
    "class Solution:\n",
    "    def palindrome(self,n):\n",
    "        dup =n\n",
    "        rev= 0\n",
    "        while n>0:\n",
    "            last =n%10\n",
    "            n=n//10\n",
    "            rev= rev*10+last\n",
    "        return rev==dup\n",
    "obj = Solution()\n",
    "n = int(input(\"Enter any number to check palindrome or not: \"))\n",
    "obj.palindrome(n)\n",
    "            "
   ]
  },
  {
   "cell_type": "markdown",
   "id": "5e05d0a5-f6d9-45c5-8986-12ae4317e732",
   "metadata": {},
   "source": [
    "### to check a prime number"
   ]
  },
  {
   "cell_type": "code",
   "execution_count": 39,
   "id": "8d330c55-c533-4940-8f6b-1206b1bb79f0",
   "metadata": {},
   "outputs": [
    {
     "name": "stdin",
     "output_type": "stream",
     "text": [
      "Enter any no to check:  54\n"
     ]
    },
    {
     "name": "stdout",
     "output_type": "stream",
     "text": [
      "not\n"
     ]
    }
   ],
   "source": [
    "n= int(input(\"Enter any no to check: \"))\n",
    "count =0\n",
    "for i in range(1,n+1):\n",
    "    if(n%i)==0:\n",
    "        count+=1\n",
    "if count==2:\n",
    "    print(\"prime\")\n",
    "else:\n",
    "    print(\"not\")\n"
   ]
  },
  {
   "cell_type": "code",
   "execution_count": 51,
   "id": "86de9db4-afe6-43ae-ba62-8b3eea79e64a",
   "metadata": {},
   "outputs": [
    {
     "name": "stdin",
     "output_type": "stream",
     "text": [
      "enter no 43\n"
     ]
    },
    {
     "name": "stdout",
     "output_type": "stream",
     "text": [
      "prime\n"
     ]
    }
   ],
   "source": [
    "n= int(input(\"enter no\"))\n",
    "count=0\n",
    "for i in range(1,abs(int(n**0.5))+1):\n",
    "    if(n%i==0):\n",
    "        count+=1\n",
    "        if(i !=n//i):\n",
    "            count+=1\n",
    "if count==2:\n",
    "    print(\"prime\")\n",
    "else:\n",
    "    print(\"not\")"
   ]
  },
  {
   "cell_type": "code",
   "execution_count": 65,
   "id": "ffaffd06-4b8c-4e5a-99c1-9b245c4d1c99",
   "metadata": {},
   "outputs": [
    {
     "name": "stdin",
     "output_type": "stream",
     "text": [
      "Enter 12 4\n"
     ]
    },
    {
     "name": "stdout",
     "output_type": "stream",
     "text": [
      "4\n"
     ]
    }
   ],
   "source": [
    "## GCD OF 2 NUMBERS\n",
    "n1,n2 = map(int,input(\"Enter\").split())\n",
    "gcd =1\n",
    "for i in range(1,n1):# instead of going up to n1 we can go up to min(n1,n2)\n",
    "    if n1%i==0 and n2%i==0:\n",
    "        gcd =i\n",
    "print(gcd)"
   ]
  },
  {
   "cell_type": "code",
   "execution_count": 87,
   "id": "3a97149b-ab87-4112-96c8-115ff4c27f87",
   "metadata": {},
   "outputs": [
    {
     "name": "stdin",
     "output_type": "stream",
     "text": [
      "Enter any two number:  12 12\n"
     ]
    },
    {
     "name": "stdout",
     "output_type": "stream",
     "text": [
      "1\n"
     ]
    }
   ],
   "source": [
    "n1,n2 = map(int,input(\"Enter any two number: \").split())\n",
    "gcd =1\n",
    "for i in range(min(n1,n2)+1,1):\n",
    "    if n1%i==0 and n2%i==0:\n",
    "        gcd =i\n",
    "print(gcd)"
   ]
  },
  {
   "cell_type": "code",
   "execution_count": 95,
   "id": "e0832037-5f22-4d6e-89ce-4b51863b079a",
   "metadata": {},
   "outputs": [
    {
     "name": "stdin",
     "output_type": "stream",
     "text": [
      "Enter any two number:  4 6\n"
     ]
    },
    {
     "name": "stdout",
     "output_type": "stream",
     "text": [
      "2\n"
     ]
    }
   ],
   "source": [
    "n1,n2 =map(int,input(\"Enter any two number: \").split())\n",
    "while(n1>0 and n2>0):\n",
    "    if n1>n2:\n",
    "        n1 = n1%n2\n",
    "    else:\n",
    "        n2 =n2%n1\n",
    "if n1==0:\n",
    "    print(n2)\n",
    "else:\n",
    "    print(n1)"
   ]
  },
  {
   "cell_type": "code",
   "execution_count": 9,
   "id": "b79e7127-7a9b-4dc8-be68-52770d36ebb4",
   "metadata": {},
   "outputs": [
    {
     "data": {
      "text/plain": [
       "-4"
      ]
     },
     "execution_count": 9,
     "metadata": {},
     "output_type": "execute_result"
    }
   ],
   "source": [
    "def miss(arr,n):\n",
    "    t_sum = n*(n+1)//2\n",
    "    a_sum = sum(arr)\n",
    "    return t_sum - a_sum\n",
    "arr =[1,2,3,4,6,7,9]\n",
    "n =7\n",
    "miss(arr,n)"
   ]
  },
  {
   "cell_type": "markdown",
   "id": "d2f04b0f-80cf-46fd-8d8a-7de3ad7bf69c",
   "metadata": {},
   "source": [
    "### MERGE SORT"
   ]
  },
  {
   "cell_type": "code",
   "execution_count": 6,
   "id": "b691df36-3802-4422-bd33-bc3ca245e85f",
   "metadata": {},
   "outputs": [
    {
     "name": "stdout",
     "output_type": "stream",
     "text": [
      "[0, 3, 4, 5, 6, 8, 9, 9, 9]\n"
     ]
    }
   ],
   "source": [
    "def merge_sort(arr):\n",
    "    if len(arr)>1:\n",
    "        mid = len(arr)//2\n",
    "        left = arr[:mid]\n",
    "        right = arr[mid:]\n",
    "\n",
    "\n",
    "        merge_sort(left)\n",
    "        merge_sort(right)\n",
    "\n",
    "\n",
    "        i=j=k=0\n",
    "\n",
    "        while i<len(left) and j<len(right):\n",
    "            if left[i]<right[j]:\n",
    "                arr[k]=left[i]\n",
    "                i +=1\n",
    "            else:\n",
    "                arr[k] = right[j]\n",
    "                j+=1\n",
    "            k+=1\n",
    "        while i<len(left):\n",
    "            arr[k] = left[i]\n",
    "            i+=1\n",
    "            k+=1\n",
    "\n",
    "        while j<len(right):\n",
    "            arr[k]=right[j]\n",
    "            j+=1\n",
    "            k+=1\n",
    "\n",
    "arr =[3,4,5,6,8,9,9,0,9]\n",
    "merge_sort(arr)\n",
    "print(arr)"
   ]
  },
  {
   "cell_type": "code",
   "execution_count": 30,
   "id": "993c4435-794b-4877-8a13-59e66fdfb36f",
   "metadata": {},
   "outputs": [
    {
     "name": "stdout",
     "output_type": "stream",
     "text": [
      "[2, 3, 5, 6, 8, 9]\n"
     ]
    }
   ],
   "source": [
    "class Solution:\n",
    "    def merge_sort(self,arr):\n",
    "        if len(arr) > 1:\n",
    "            mid = len(arr) // 2\n",
    "            left = arr[:mid]\n",
    "            right = arr[mid:]\n",
    "    \n",
    "            # Recursive calls\n",
    "            self.merge_sort(left)\n",
    "            self.merge_sort(right)\n",
    "    \n",
    "            # Merge two halves\n",
    "            i = j = k = 0\n",
    "    \n",
    "            while i < len(left) and j < len(right):\n",
    "                if left[i] < right[j]:\n",
    "                    arr[k] = left[i]\n",
    "                    i += 1\n",
    "                else:\n",
    "                    arr[k] = right[j]\n",
    "                    j += 1\n",
    "                k += 1\n",
    "    \n",
    "            # Copy remaining elements of left\n",
    "            while i < len(left):\n",
    "                arr[k] = left[i]\n",
    "                i += 1\n",
    "                k += 1\n",
    "    \n",
    "            # Copy remaining elements of right\n",
    "            while j < len(right):\n",
    "                arr[k] = right[j]\n",
    "                j += 1\n",
    "                k += 1\n",
    "\n",
    "# Example usage\n",
    "obj = Solution()\n",
    "arr = [6, 3, 9, 5, 2, 8]\n",
    "obj.merge_sort(arr)\n",
    "print(arr)\n",
    "\n"
   ]
  },
  {
   "cell_type": "code",
   "execution_count": 36,
   "id": "b0d79b29-54f6-4ff1-8483-abf4912a09e3",
   "metadata": {},
   "outputs": [
    {
     "name": "stdout",
     "output_type": "stream",
     "text": [
      "[2, 3, 5, 6, 8, 9]\n"
     ]
    }
   ],
   "source": [
    "class Solution:\n",
    "    def mergeSort(self, nums):\n",
    "        if len(nums)>1:\n",
    "            mid = len(nums)//2\n",
    "            left = nums[:mid]\n",
    "            right = nums[mid:]\n",
    "\n",
    "            self.mergeSort(left)\n",
    "            self.mergeSort(right)\n",
    "\n",
    "            i=j=k=0\n",
    "            while i<len(left) and j<len(right):\n",
    "                if left[i]<right[j]:\n",
    "                    nums[k] = left[i]\n",
    "                    i+=1\n",
    "                else:\n",
    "                    nums[k] = right[j]\n",
    "                    j+=1\n",
    "                k+=1\n",
    "\n",
    "            while i<len(left):\n",
    "                nums[k] = left[i]\n",
    "                i+=1\n",
    "                k+=1\n",
    "\n",
    "            while j<len(right):\n",
    "                nums[k] = right[j]\n",
    "                j+=1\n",
    "                k+=1\n",
    "# Example usage\n",
    "obj = Solution()\n",
    "nums = [6, 3, 9, 5, 2, 8]\n",
    "obj.mergeSort(nums)\n",
    "print(arr)\n",
    "\n",
    "        "
   ]
  },
  {
   "cell_type": "markdown",
   "id": "f0be9bb7-a0b7-4e28-afb1-a879e0df0674",
   "metadata": {},
   "source": [
    "### Quick Sort"
   ]
  },
  {
   "cell_type": "code",
   "execution_count": 6,
   "id": "4fb104c4-5a17-4a60-bfa1-49fbba5bb8f6",
   "metadata": {},
   "outputs": [
    {
     "name": "stdout",
     "output_type": "stream",
     "text": [
      "[2, 3, 5, 6, 8, 9]\n"
     ]
    }
   ],
   "source": [
    "class Solution:\n",
    "    def sortArray(self, nums):\n",
    "        self.quickSort(nums, 0, len(nums) - 1)\n",
    "        return nums\n",
    "\n",
    "    def quickSort(self, nums, low, high):\n",
    "        if low < high:\n",
    "            pi = self.partition(nums, low, high)\n",
    "            self.quickSort(nums, low, pi - 1)\n",
    "            self.quickSort(nums, pi + 1, high)\n",
    "\n",
    "    def partition(self, nums, low, high):\n",
    "        pivot = nums[high]\n",
    "        i = low - 1\n",
    "\n",
    "        for j in range(low, high):\n",
    "            if nums[j] < pivot:\n",
    "                i += 1\n",
    "                nums[i], nums[j] = nums[j], nums[i]\n",
    "\n",
    "        nums[i + 1], nums[high] = nums[high], nums[i + 1]\n",
    "        return i + 1\n",
    "sol = Solution()\n",
    "arr = [6, 3, 9, 5, 2, 8]\n",
    "print(sol.sortArray(arr))\n"
   ]
  },
  {
   "cell_type": "markdown",
   "id": "58a35834-96ab-4c55-a7ba-96f939471065",
   "metadata": {},
   "source": [
    "### Largest Emement of an Array"
   ]
  },
  {
   "cell_type": "code",
   "execution_count": 10,
   "id": "71a9073a-29e8-45d2-8159-aa88a3021ef3",
   "metadata": {},
   "outputs": [
    {
     "name": "stdout",
     "output_type": "stream",
     "text": [
      "8\n"
     ]
    }
   ],
   "source": [
    "a=[4,5,6,8,4,3,2,4,7]\n",
    "largest=a[0]\n",
    "n =len(a)\n",
    "for i in range(0,n):\n",
    "    if a[i]>largest:\n",
    "        largest =a[i]\n",
    "print(largest)"
   ]
  },
  {
   "cell_type": "code",
   "execution_count": 25,
   "id": "93887785-a2a0-4455-b05f-d5bbc5d8e512",
   "metadata": {},
   "outputs": [
    {
     "name": "stdout",
     "output_type": "stream",
     "text": [
      "-12\n"
     ]
    }
   ],
   "source": [
    "class Solution:\n",
    "    def largestElement(self, nums):\n",
    "        n = len(nums)\n",
    "        largest = nums[0]\n",
    "        for i in range(0,n):\n",
    "            if nums[i]>largest:\n",
    "                largest = nums[i]\n",
    "        print(largest)\n",
    "obj = Solution()\n",
    "arr = [-44,-12]\n",
    "obj.largestElement(arr)\n",
    "\n",
    "        "
   ]
  },
  {
   "cell_type": "code",
   "execution_count": null,
   "id": "096f928a-60d1-4f51-86dd-fda7764cae2e",
   "metadata": {},
   "outputs": [],
   "source": []
  }
 ],
 "metadata": {
  "kernelspec": {
   "display_name": "Python 3 (ipykernel)",
   "language": "python",
   "name": "python3"
  },
  "language_info": {
   "codemirror_mode": {
    "name": "ipython",
    "version": 3
   },
   "file_extension": ".py",
   "mimetype": "text/x-python",
   "name": "python",
   "nbconvert_exporter": "python",
   "pygments_lexer": "ipython3",
   "version": "3.12.4"
  },
  "widgets": {
   "application/vnd.jupyter.widget-state+json": {
    "state": {},
    "version_major": 2,
    "version_minor": 0
   }
  }
 },
 "nbformat": 4,
 "nbformat_minor": 5
}
