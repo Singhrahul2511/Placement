{
 "cells": [
  {
   "cell_type": "code",
   "execution_count": 5,
   "metadata": {},
   "outputs": [
    {
     "name": "stdout",
     "output_type": "stream",
     "text": [
      "[1 2 3 4]\n",
      "[1.1 2.2 3.3 4.4]\n"
     ]
    }
   ],
   "source": [
    "import numpy as np \n",
    "intarr = np.array([1,2,3,4])\n",
    "floatarr = np.array([1.1,2.2,3.3,4.4]) \n",
    "print(intarr)\n",
    "print(floatarr)"
   ]
  },
  {
   "cell_type": "code",
   "execution_count": 6,
   "id": "099bdc57",
   "metadata": {},
   "outputs": [
    {
     "name": "stdout",
     "output_type": "stream",
     "text": [
      "([1, 2, 3, 4], <class 'int'>)\n",
      "([1.1, 2.2, 3.3, 4.4], <class 'float'>)\n"
     ]
    }
   ],
   "source": [
    "intarr = ([1,2,3,4],int)\n",
    "floatarr = ([1.1,2.2,3.3,4.4],float)\n",
    "print(intarr)\n",
    "print(floatarr)"
   ]
  },
  {
   "cell_type": "markdown",
   "id": "9ab20e8a",
   "metadata": {},
   "source": [
    "2D array(matrix) is collection of several 1D and 3D array is collection of several 2D arrays. "
   ]
  },
  {
   "cell_type": "code",
   "execution_count": 7,
   "id": "624b325e",
   "metadata": {},
   "outputs": [
    {
     "name": "stdout",
     "output_type": "stream",
     "text": [
      "[[1 2 3]\n",
      " [4 5 6]]\n",
      "[[[1 2]\n",
      "  [4 5]\n",
      "  [6 7]\n",
      "  [7 8]]]\n"
     ]
    }
   ],
   "source": [
    "a1 = np.array([[1,2,3],[4,5,6]])\n",
    "a2 = np.array([[[1,2],[4,5],[6,7],[7,8]]])\n",
    "print(a1)\n",
    "print(a2)"
   ]
  },
  {
   "cell_type": "markdown",
   "id": "030341d5",
   "metadata": {},
   "source": [
    "Array of compex number can also be created."
   ]
  },
  {
   "cell_type": "code",
   "execution_count": 9,
   "id": "ab26b16c",
   "metadata": {},
   "outputs": [
    {
     "name": "stdout",
     "output_type": "stream",
     "text": [
      "[[1.+0.j 2.+0.j]\n",
      " [3.+0.j 4.+0.j]]\n"
     ]
    }
   ],
   "source": [
    "c = np.array([[1,2],[3,4]],complex)\n",
    "print(c)"
   ]
  },
  {
   "cell_type": "markdown",
   "id": "7d46e254",
   "metadata": {},
   "source": [
    "Creation of file array."
   ]
  },
  {
   "cell_type": "code",
   "execution_count": 15,
   "id": "745a8eef",
   "metadata": {},
   "outputs": [
    {
     "name": "stdout",
     "output_type": "stream",
     "text": [
      "[[1. 1. 1. 1.]\n",
      " [1. 1. 1. 1.]\n",
      " [1. 1. 1. 1.]]\n",
      "[[0. 0. 0. 0.]\n",
      " [0. 0. 0. 0.]\n",
      " [0. 0. 0. 0.]]\n",
      "[[1. 1. 1. 1.]\n",
      " [1. 1. 1. 1.]\n",
      " [1. 1. 1. 1.]]\n",
      "[[7 7]\n",
      " [7 7]]\n"
     ]
    }
   ],
   "source": [
    "import numpy as np\n",
    "a1 = np.empty((3,4))\n",
    "a2 = np.zeros((3,4))\n",
    "a3 = np.ones((3,4))\n",
    "a4 = np.full((2,2),7)\n",
    "print(a1)\n",
    "print(a2)\n",
    "print(a3)\n",
    "print(a4)"
   ]
  },
  {
   "cell_type": "markdown",
   "id": "b0bdd09c",
   "metadata": {},
   "source": [
    "Create array with random values or with evenly spaace value."
   ]
  },
  {
   "cell_type": "code",
   "execution_count": 24,
   "id": "bf5c4564",
   "metadata": {},
   "outputs": [
    {
     "name": "stdout",
     "output_type": "stream",
     "text": [
      "[0.6764623  0.88295778 0.05178974 0.40474943]\n",
      "[0 1 2 3 4]\n",
      "[ 0  5 10 15]\n",
      "[0.  0.5 1.  1.5 2. ]\n"
     ]
    }
   ],
   "source": [
    "import numpy as np\n",
    "a1 = np.random.random((4))\n",
    "print(a1)\n",
    "\n",
    "a2 = np.arange(5)\n",
    "print(a2)\n",
    "\n",
    "a3 = np.arange(0,20,5)\n",
    "print(a3)\n",
    "\n",
    "a4 = np.linspace(0,2, 5)\n",
    "print(a4)\n"
   ]
  },
  {
   "cell_type": "markdown",
   "id": "5f9d0e1f",
   "metadata": {},
   "source": [
    "Array Creation: Conversion from other python structures"
   ]
  },
  {
   "cell_type": "code",
   "execution_count": 2,
   "id": "525696d0",
   "metadata": {},
   "outputs": [
    {
     "name": "stdout",
     "output_type": "stream",
     "text": [
      "[[1 2 3]\n",
      " [5 8 5]\n",
      " [0 3 1]]\n"
     ]
    }
   ],
   "source": [
    "import numpy as np\n",
    "listarray = np.array([[1,2,3],[5,8,5],[0,3,1]])\n",
    "print(listarray)"
   ]
  },
  {
   "cell_type": "code",
   "execution_count": 3,
   "id": "7ec7bf4c",
   "metadata": {},
   "outputs": [
    {
     "data": {
      "text/plain": [
       "dtype('int32')"
      ]
     },
     "execution_count": 3,
     "metadata": {},
     "output_type": "execute_result"
    }
   ],
   "source": [
    "listarray.dtype"
   ]
  },
  {
   "cell_type": "code",
   "execution_count": 4,
   "id": "42863e48",
   "metadata": {},
   "outputs": [
    {
     "data": {
      "text/plain": [
       "(3, 3)"
      ]
     },
     "execution_count": 4,
     "metadata": {},
     "output_type": "execute_result"
    }
   ],
   "source": [
    "listarray.shape"
   ]
  },
  {
   "cell_type": "code",
   "execution_count": 5,
   "id": "3b91126f",
   "metadata": {},
   "outputs": [
    {
     "data": {
      "text/plain": [
       "9"
      ]
     },
     "execution_count": 5,
     "metadata": {},
     "output_type": "execute_result"
    }
   ],
   "source": [
    "listarray.size"
   ]
  },
  {
   "cell_type": "code",
   "execution_count": 6,
   "id": "8ca36a3d",
   "metadata": {},
   "outputs": [
    {
     "data": {
      "text/plain": [
       "array({34, 23}, dtype=object)"
      ]
     },
     "execution_count": 6,
     "metadata": {},
     "output_type": "execute_result"
    }
   ],
   "source": [
    "np.array({34,23,23})"
   ]
  },
  {
   "cell_type": "code",
   "execution_count": 8,
   "id": "cb04b4cb",
   "metadata": {},
   "outputs": [
    {
     "name": "stdout",
     "output_type": "stream",
     "text": [
      "[[0. 0. 0. 0. 0.]\n",
      " [0. 0. 0. 0. 0.]]\n"
     ]
    }
   ],
   "source": [
    "zeros = np.zeros((2,5))\n",
    "print(zeros)"
   ]
  },
  {
   "cell_type": "code",
   "execution_count": 9,
   "id": "cba6576f",
   "metadata": {},
   "outputs": [
    {
     "data": {
      "text/plain": [
       "(2, 5)"
      ]
     },
     "execution_count": 9,
     "metadata": {},
     "output_type": "execute_result"
    }
   ],
   "source": [
    "zeros.shape"
   ]
  },
  {
   "cell_type": "code",
   "execution_count": 10,
   "id": "1a6494e5",
   "metadata": {},
   "outputs": [
    {
     "name": "stdout",
     "output_type": "stream",
     "text": [
      "[ 0  1  2  3  4  5  6  7  8  9 10 11 12 13 14]\n"
     ]
    }
   ],
   "source": [
    "rng=np.arange(15)\n",
    "print(rng)"
   ]
  },
  {
   "cell_type": "code",
   "execution_count": 13,
   "id": "7f825cd8",
   "metadata": {},
   "outputs": [
    {
     "name": "stdout",
     "output_type": "stream",
     "text": [
      "[ 1.          6.44444444 11.88888889 17.33333333 22.77777778 28.22222222\n",
      " 33.66666667 39.11111111 44.55555556 50.        ]\n"
     ]
    }
   ],
   "source": [
    "lspace = np.linspace(1,50,10)\n",
    "print(lspace)"
   ]
  },
  {
   "cell_type": "code",
   "execution_count": 14,
   "id": "10bde3e6",
   "metadata": {},
   "outputs": [
    {
     "name": "stdout",
     "output_type": "stream",
     "text": [
      "[[6.23042070e-307 4.67296746e-307 1.69121096e-306 1.06810132e-306\n",
      "  1.89146896e-307 7.56571288e-307]\n",
      " [4.00544531e-307 1.11261095e-306 3.56043054e-307 1.37961641e-306\n",
      "  2.22518251e-306 1.33511969e-306]\n",
      " [6.23037657e-307 9.34609790e-307 8.45593934e-307 9.34600963e-307\n",
      "  1.86921143e-306 6.23061763e-307]\n",
      " [1.42421160e-306 6.23055651e-307 1.60220800e-306 1.24610587e-306\n",
      "  8.34445562e-308 7.23149005e-308]]\n"
     ]
    }
   ],
   "source": [
    "emp = np.empty((4,6))\n",
    "print(emp)"
   ]
  },
  {
   "cell_type": "code",
   "execution_count": 15,
   "id": "f945822a",
   "metadata": {},
   "outputs": [
    {
     "name": "stdout",
     "output_type": "stream",
     "text": [
      "[ 1.          6.44444444 11.88888889 17.33333333 22.77777778 28.22222222\n",
      " 33.66666667 39.11111111 44.55555556 50.        ]\n"
     ]
    }
   ],
   "source": [
    "emp_like = np.empty_like(lspace)\n",
    "print(emp_like)"
   ]
  },
  {
   "cell_type": "code",
   "execution_count": 16,
   "id": "bbea0ab7",
   "metadata": {},
   "outputs": [
    {
     "name": "stdout",
     "output_type": "stream",
     "text": [
      "[[1. 0. 0. ... 0. 0. 0.]\n",
      " [0. 1. 0. ... 0. 0. 0.]\n",
      " [0. 0. 1. ... 0. 0. 0.]\n",
      " ...\n",
      " [0. 0. 0. ... 1. 0. 0.]\n",
      " [0. 0. 0. ... 0. 1. 0.]\n",
      " [0. 0. 0. ... 0. 0. 1.]]\n"
     ]
    }
   ],
   "source": [
    "id = np.identity(45)\n",
    "print(id)"
   ]
  },
  {
   "cell_type": "code",
   "execution_count": 17,
   "id": "f39e65a5",
   "metadata": {},
   "outputs": [
    {
     "data": {
      "text/plain": [
       "(45, 45)"
      ]
     },
     "execution_count": 17,
     "metadata": {},
     "output_type": "execute_result"
    }
   ],
   "source": [
    "id.shape"
   ]
  },
  {
   "cell_type": "code",
   "execution_count": 18,
   "id": "92a2147f",
   "metadata": {},
   "outputs": [
    {
     "name": "stdout",
     "output_type": "stream",
     "text": [
      "[ 0  1  2  3  4  5  6  7  8  9 10 11 12 13 14 15 16 17 18 19 20 21 22 23\n",
      " 24 25 26 27 28 29 30 31 32 33 34 35 36 37 38 39 40 41 42 43 44 45 46 47\n",
      " 48 49 50 51 52 53 54 55 56 57 58 59 60 61 62 63 64 65 66 67 68 69 70 71\n",
      " 72 73 74 75 76 77 78 79 80 81 82 83 84 85 86 87 88 89 90 91 92 93 94 95\n",
      " 96 97 98]\n"
     ]
    }
   ],
   "source": [
    "arr = np.arange(99)\n",
    "print(arr)"
   ]
  },
  {
   "cell_type": "code",
   "execution_count": 19,
   "id": "37ee73ed",
   "metadata": {},
   "outputs": [
    {
     "data": {
      "text/plain": [
       "array([[ 0,  1,  2,  3,  4,  5,  6,  7,  8,  9, 10, 11, 12, 13, 14, 15,\n",
       "        16, 17, 18, 19, 20, 21, 22, 23, 24, 25, 26, 27, 28, 29, 30, 31,\n",
       "        32],\n",
       "       [33, 34, 35, 36, 37, 38, 39, 40, 41, 42, 43, 44, 45, 46, 47, 48,\n",
       "        49, 50, 51, 52, 53, 54, 55, 56, 57, 58, 59, 60, 61, 62, 63, 64,\n",
       "        65],\n",
       "       [66, 67, 68, 69, 70, 71, 72, 73, 74, 75, 76, 77, 78, 79, 80, 81,\n",
       "        82, 83, 84, 85, 86, 87, 88, 89, 90, 91, 92, 93, 94, 95, 96, 97,\n",
       "        98]])"
      ]
     },
     "execution_count": 19,
     "metadata": {},
     "output_type": "execute_result"
    }
   ],
   "source": [
    "arr.reshape(3,33)"
   ]
  },
  {
   "cell_type": "code",
   "execution_count": 20,
   "id": "3147e579",
   "metadata": {},
   "outputs": [
    {
     "data": {
      "text/plain": [
       "array([ 0,  1,  2,  3,  4,  5,  6,  7,  8,  9, 10, 11, 12, 13, 14, 15, 16,\n",
       "       17, 18, 19, 20, 21, 22, 23, 24, 25, 26, 27, 28, 29, 30, 31, 32, 33,\n",
       "       34, 35, 36, 37, 38, 39, 40, 41, 42, 43, 44, 45, 46, 47, 48, 49, 50,\n",
       "       51, 52, 53, 54, 55, 56, 57, 58, 59, 60, 61, 62, 63, 64, 65, 66, 67,\n",
       "       68, 69, 70, 71, 72, 73, 74, 75, 76, 77, 78, 79, 80, 81, 82, 83, 84,\n",
       "       85, 86, 87, 88, 89, 90, 91, 92, 93, 94, 95, 96, 97, 98])"
      ]
     },
     "execution_count": 20,
     "metadata": {},
     "output_type": "execute_result"
    }
   ],
   "source": [
    "arr.ravel()"
   ]
  },
  {
   "cell_type": "code",
   "execution_count": 21,
   "id": "4fd7266b",
   "metadata": {},
   "outputs": [
    {
     "data": {
      "text/plain": [
       "(99,)"
      ]
     },
     "execution_count": 21,
     "metadata": {},
     "output_type": "execute_result"
    }
   ],
   "source": [
    "arr.shape"
   ]
  },
  {
   "cell_type": "markdown",
   "id": "9e58fb21",
   "metadata": {},
   "source": [
    "Write a program to construct a 3D array of dimensions 4*3*2 initialize some array to some values. Find the maximum along each axis."
   ]
  },
  {
   "cell_type": "code",
   "execution_count": 8,
   "id": "9505950b",
   "metadata": {},
   "outputs": [
    {
     "name": "stdout",
     "output_type": "stream",
     "text": [
      "Maximum along axis 0\n",
      "[[3 5 6]\n",
      " [7 8 8]]\n",
      "Maximum along axis 1\n",
      "[[4 5 6]\n",
      " [4 6 8]\n",
      " [6 7 8]\n",
      " [7 8 6]]\n",
      "maximum along axis 2\n",
      "[[3 6]\n",
      " [5 8]\n",
      " [5 8]\n",
      " [6 8]]\n"
     ]
    }
   ],
   "source": [
    "import numpy as np\n",
    "a = np.array([[[1,2,3],[4,5,6]],\n",
    "             [[1,3,5],[4,6,8]],\n",
    "             [[2,4,5],[6,7,8]],\n",
    "             [[3,5,6],[7,8,4]]])\n",
    "print('Maximum along axis 0')\n",
    "print(np.max(a, axis = 0))\n",
    "print('Maximum along axis 1')\n",
    "print(np.max(a, axis=1))\n",
    "print('maximum along axis 2')\n",
    "print(np.max(a, axis=2))"
   ]
  },
  {
   "cell_type": "markdown",
   "id": "7d75a981",
   "metadata": {},
   "source": [
    "1. write a program to to create an array of shape 5*4 containing elements 1 to 20 and find the sum of entire array as well as sum along each row and columns."
   ]
  },
  {
   "cell_type": "code",
   "execution_count": 9,
   "id": "3b2b0aa3",
   "metadata": {},
   "outputs": [
    {
     "name": "stdout",
     "output_type": "stream",
     "text": [
      "[[ 0  1  2  3]\n",
      " [ 4  5  6  7]\n",
      " [ 8  9 10 11]\n",
      " [12 13 14 15]\n",
      " [16 17 18 19]]\n",
      "190\n",
      "[40 45 50 55]\n",
      "[ 6 22 38 54 70]\n"
     ]
    }
   ],
   "source": [
    "import numpy as np\n",
    "a = np.arange(20).reshape((5,4))\n",
    "print(a)\n",
    "print(np.sum(a))\n",
    "print(np.sum(a, axis =0))\n",
    "print(np.sum(a, axis =1))"
   ]
  },
  {
   "cell_type": "markdown",
   "id": "c8a34a11",
   "metadata": {},
   "source": [
    "Write a program to achive the following tasks:\n",
    "\n",
    "1. Find indices of non-zero elements from[11,12,0,0,40,50]\n",
    "2. create a 5*5 identity matrix\n",
    "3. create a 5*6 array with random value and find the minimum and maximum values.\n",
    "4. create an 8*8 array and fill it with a chess board pattern."
   ]
  },
  {
   "cell_type": "code",
   "execution_count": 12,
   "id": "b38797b1",
   "metadata": {},
   "outputs": [
    {
     "name": "stdout",
     "output_type": "stream",
     "text": [
      "(array([0, 1, 4, 5], dtype=int64),)\n",
      "[[1. 0. 0. 0. 0.]\n",
      " [0. 1. 0. 0. 0.]\n",
      " [0. 0. 1. 0. 0.]\n",
      " [0. 0. 0. 1. 0.]\n",
      " [0. 0. 0. 0. 1.]]\n",
      "[[0.2610518  0.16767587 0.80701477 0.46430239]\n",
      " [0.80596391 0.48454074 0.43445785 0.82246563]\n",
      " [0.04184582 0.80932918 0.59254224 0.66011554]\n",
      " [0.14517493 0.76667773 0.28327319 0.30934849]]\n",
      "0.04184581624268702\n",
      "0.8224656276015138\n",
      "[[0 1 0 1 0 1 0 1]\n",
      " [1 0 1 0 1 0 1 0]\n",
      " [0 1 0 1 0 1 0 1]\n",
      " [1 0 1 0 1 0 1 0]\n",
      " [0 1 0 1 0 1 0 1]\n",
      " [1 0 1 0 1 0 1 0]\n",
      " [0 1 0 1 0 1 0 1]\n",
      " [1 0 1 0 1 0 1 0]]\n"
     ]
    }
   ],
   "source": [
    "import numpy as np\n",
    "a = np.array([11,22,0,0,40,50,0])\n",
    "print(np.nonzero(a))\n",
    "\n",
    "b = np.eye(5)\n",
    "print(b)\n",
    "\n",
    "c = np.random.random((4,4))\n",
    "print(c)\n",
    "\n",
    "mn= c.min()\n",
    "mx =c.max()\n",
    "print(mn)\n",
    "print(mx)\n",
    "\n",
    "d= np.zeros((8,8),int)\n",
    "d[1::2,::2] = 1\n",
    "d[::2,1::2] = 1\n",
    "print(d)"
   ]
  },
  {
   "cell_type": "code",
   "execution_count": null,
   "id": "22bb4470",
   "metadata": {},
   "outputs": [],
   "source": []
  }
 ],
 "metadata": {
  "kernelspec": {
   "display_name": "Python 3",
   "language": "python",
   "name": "python3"
  },
  "language_info": {
   "codemirror_mode": {
    "name": "ipython",
    "version": 3
   },
   "file_extension": ".py",
   "mimetype": "text/x-python",
   "name": "python",
   "nbconvert_exporter": "python",
   "pygments_lexer": "ipython3",
   "version": "3.12.0"
  }
 },
 "nbformat": 4,
 "nbformat_minor": 5
}
