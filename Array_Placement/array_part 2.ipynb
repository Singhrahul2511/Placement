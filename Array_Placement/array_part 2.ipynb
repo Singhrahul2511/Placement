{
 "cells": [
  {
   "cell_type": "markdown",
   "id": "3c96786c-25b2-43d0-bab9-fe9f4b7d7e75",
   "metadata": {},
   "source": [
    "### 1. left rotating an array by k position"
   ]
  },
  {
   "cell_type": "code",
   "execution_count": 6,
   "id": "ac1a287f-17a3-471f-8f2f-9d1565ec62a3",
   "metadata": {},
   "outputs": [
    {
     "ename": "TypeError",
     "evalue": "Rotation.__init__() missing 2 required positional arguments: 'arr' and 'd'",
     "output_type": "error",
     "traceback": [
      "\u001b[1;31m---------------------------------------------------------------------------\u001b[0m",
      "\u001b[1;31mTypeError\u001b[0m                                 Traceback (most recent call last)",
      "Cell \u001b[1;32mIn[6], line 14\u001b[0m\n\u001b[0;32m     12\u001b[0m arr \u001b[38;5;241m=\u001b[39m[\u001b[38;5;241m1\u001b[39m,\u001b[38;5;241m2\u001b[39m,\u001b[38;5;241m3\u001b[39m,\u001b[38;5;241m4\u001b[39m,\u001b[38;5;241m5\u001b[39m]\n\u001b[0;32m     13\u001b[0m d \u001b[38;5;241m=\u001b[39m\u001b[38;5;241m2\u001b[39m\n\u001b[1;32m---> 14\u001b[0m obj \u001b[38;5;241m=\u001b[39m \u001b[43mRotation\u001b[49m\u001b[43m(\u001b[49m\u001b[43m)\u001b[49m\n\u001b[0;32m     15\u001b[0m obj\u001b[38;5;241m.\u001b[39mdrotare(arr,d)\n",
      "\u001b[1;31mTypeError\u001b[0m: Rotation.__init__() missing 2 required positional arguments: 'arr' and 'd'"
     ]
    }
   ],
   "source": [
    "class Rotation():\n",
    "    def __init__(self,arr,d):\n",
    "        self.arr = arr\n",
    "        self.d = d\n",
    "        self.n = len(arr)\n",
    "        def drotate(self):\n",
    "            d = self.d %self.n\n",
    "            temp = [d]\n",
    "            for i in range(0,d):\n",
    "                temp[i] = arr[i]\n",
    "            for i in range(d,n):\n",
    "                arr[i-d] = arr[i]\n",
    "            for i in range(n-d,n):\n",
    "                arr[i] = temp[i-(n-d)]\n",
    "arr =[1,2,3,4,5]\n",
    "d =2\n",
    "obj = Rotation()\n",
    "obj.drotare(arr,d)"
   ]
  },
  {
   "cell_type": "code",
   "execution_count": 8,
   "id": "c66650cb-abcd-4e96-ab31-a95e3170dc28",
   "metadata": {},
   "outputs": [
    {
     "name": "stdout",
     "output_type": "stream",
     "text": [
      "[3, 4, 5, 1, 2]\n"
     ]
    }
   ],
   "source": [
    "class Rotation:\n",
    "    def __init__(self, arr, d):\n",
    "        self.arr = arr\n",
    "        self.d = d\n",
    "        self.n = len(arr)\n",
    "\n",
    "    def drotate(self):\n",
    "        d = self.d % self.n\n",
    "        temp = self.arr[:d]  # copy first d elements\n",
    "\n",
    "        for i in range(d, self.n):\n",
    "            self.arr[i - d] = self.arr[i]\n",
    "\n",
    "        for i in range(self.n - d, self.n):\n",
    "            self.arr[i] = temp[i - (self.n - d)]\n",
    "\n",
    "        return self.arr\n",
    "\n",
    "# Usage\n",
    "arr = [1, 2, 3, 4, 5]\n",
    "d = 2\n",
    "obj = Rotation(arr, d)\n",
    "result = obj.drotate()\n",
    "print(result)  # Output: [3, 4, 5, 1, 2]\n"
   ]
  },
  {
   "cell_type": "markdown",
   "id": "fcaa873f-cabc-4166-a568-a397e9e58b1b",
   "metadata": {},
   "source": [
    "### 2. find union of two array:"
   ]
  },
  {
   "cell_type": "code",
   "execution_count": 2,
   "id": "ed085a1d-d3d4-49b1-8842-944c6c8328be",
   "metadata": {},
   "outputs": [
    {
     "name": "stdout",
     "output_type": "stream",
     "text": [
      "union of arr1 and arr2 is: \n",
      "1 2 3 4 5 6 7 8 9 10 11 12\n"
     ]
    }
   ],
   "source": [
    "def find_union(arr1,arr2):\n",
    "    s = set()\n",
    "    union = []\n",
    "    for num in arr1:\n",
    "        s.add(num)\n",
    "    for num in arr2:\n",
    "        s.add(num)\n",
    "    for num in s:\n",
    "        union.append(num)\n",
    "    return union\n",
    "arr1 = [1,2,3,4,5,6,7,8,9,10]\n",
    "arr2 = [2,3,4,4,5,11,12]\n",
    "union = find_union(arr1,arr2)\n",
    "print(\"union of arr1 and arr2 is: \")\n",
    "print(*union)"
   ]
  },
  {
   "cell_type": "code",
   "execution_count": 12,
   "id": "2d066a39-18e4-4916-b839-1801a1caaa2f",
   "metadata": {},
   "outputs": [
    {
     "name": "stdout",
     "output_type": "stream",
     "text": [
      "Union of arr1 and arr2 is:\n",
      "1 2 3 4 5 6 7 8 9 10 11 12\n"
     ]
    }
   ],
   "source": [
    "\n",
    "\n",
    "\n",
    "def find_union(arr1, arr2):\n",
    "    i, j = 0, 0  # Pointers\n",
    "    union = []  # Union list\n",
    "\n",
    "    while i < len(arr1) and j < len(arr2):\n",
    "        if arr1[i] <= arr2[j]:  # Case 1 and 2\n",
    "            if len(union) == 0 or union[-1] != arr1[i]:\n",
    "                union.append(arr1[i])\n",
    "            i += 1\n",
    "        else:  # Case 3\n",
    "            if len(union) == 0 or union[-1] != arr2[j]:\n",
    "                union.append(arr2[j])\n",
    "            j += 1\n",
    "\n",
    "    while i < len(arr1):  # If any elements left in arr1\n",
    "        if union[-1] != arr1[i]:\n",
    "            union.append(arr1[i])\n",
    "        i += 1\n",
    "\n",
    "    while j < len(arr2):  # If any elements left in arr2\n",
    "        if union[-1] != arr2[j]:\n",
    "            union.append(arr2[j])\n",
    "        j += 1\n",
    "\n",
    "    return union\n",
    "\n",
    "\n",
    "arr1 = [1, 2, 3, 4, 5, 6, 7, 8, 9, 10]\n",
    "arr2 = [2, 3, 4, 4, 5, 11, 12]\n",
    "\n",
    "union = find_union(arr1, arr2)\n",
    "\n",
    "print(\"Union of arr1 and arr2 is:\")\n",
    "print(*union)\n",
    "\n"
   ]
  },
  {
   "cell_type": "markdown",
   "id": "a46d985b-09f5-4bd6-94c0-2c7e5be49286",
   "metadata": {},
   "source": [
    "### 3. find missing element in an array."
   ]
  },
  {
   "cell_type": "code",
   "execution_count": 26,
   "id": "c1de9af6-9e63-43d0-8435-203a464456f9",
   "metadata": {},
   "outputs": [
    {
     "name": "stdout",
     "output_type": "stream",
     "text": [
      "3\n"
     ]
    }
   ],
   "source": [
    "val = [1,2,4,5,6]\n",
    "start = val[0]\n",
    "for i in range(len(val)):\n",
    "    if val[i] !=start+i:\n",
    "        print(start+i)\n",
    "        break"
   ]
  },
  {
   "cell_type": "markdown",
   "id": "b43ee6ee-d24c-451e-97b2-bb81ea875a8c",
   "metadata": {},
   "source": [
    "### tto find the all missing element"
   ]
  },
  {
   "cell_type": "code",
   "execution_count": 29,
   "id": "59356b01-1432-4f65-82b8-a8f0ce42b231",
   "metadata": {},
   "outputs": [
    {
     "name": "stdout",
     "output_type": "stream",
     "text": [
      "Missing elements: {3, 7}\n"
     ]
    }
   ],
   "source": [
    "arr = [2, 4, 5, 6, 8, 9]\n",
    "n = len(arr)\n",
    "full_range = set(range(arr[0], arr[-1] + 1))\n",
    "missing = full_range - set(arr)\n",
    "print(\"Missing elements:\", missing)\n"
   ]
  },
  {
   "cell_type": "code",
   "execution_count": 22,
   "id": "69965839-6dc1-4e29-8a0e-d20ee85c75ba",
   "metadata": {},
   "outputs": [
    {
     "name": "stdout",
     "output_type": "stream",
     "text": [
      "2\n"
     ]
    }
   ],
   "source": [
    "### to find the non-repeating 1st element\n",
    "\n",
    "arr = [2, 4, 5, 6, 8, 9]\n",
    "n = len(arr)\n",
    "for i in range(n):\n",
    "    flag = 0\n",
    "    for j in range(n):\n",
    "        if i != j and arr[i] == arr[j]:\n",
    "            flag = 1\n",
    "            break\n",
    "    if flag == 0:\n",
    "        print(arr[i])\n",
    "        break\n"
   ]
  },
  {
   "cell_type": "code",
   "execution_count": 39,
   "id": "eacf76a7-5841-4462-8254-c0db689adf57",
   "metadata": {},
   "outputs": [
    {
     "name": "stdout",
     "output_type": "stream",
     "text": [
      "4\n"
     ]
    }
   ],
   "source": [
    "## optimal solution to find the missing 1 element.\n",
    "\n",
    "arr = [1,2,3,5]\n",
    "n= len(arr)\n",
    "s2 =0\n",
    "sum = n*(n+1)//2\n",
    "for i in range(n-1):\n",
    "    s2 +=arr[i]\n",
    "missing = sum-s2\n",
    "print(missing)\n",
    "\n",
    "    "
   ]
  },
  {
   "cell_type": "code",
   "execution_count": 79,
   "id": "aea229bc-bd84-49f0-820a-67802063c163",
   "metadata": {},
   "outputs": [
    {
     "data": {
      "text/plain": [
       "2"
      ]
     },
     "execution_count": 79,
     "metadata": {},
     "output_type": "execute_result"
    }
   ],
   "source": [
    "class Solution:\n",
    "    def missingNumber(self, nums):\n",
    "        nums.sort()\n",
    "        n= len(nums)\n",
    "        sum = n*(n+1)//2\n",
    "        s2 = 0\n",
    "        for i in range(n):\n",
    "            s2 +=nums[i]\n",
    "        return sum-s2\n",
    "obj = Solution()\n",
    "ak = [0,1]\n",
    "obj.missingNumber(ak)"
   ]
  },
  {
   "cell_type": "code",
   "execution_count": 57,
   "id": "c35fa846-8ee2-4d4f-a3c0-57af444d6964",
   "metadata": {},
   "outputs": [
    {
     "name": "stdout",
     "output_type": "stream",
     "text": [
      "[1, 2, 3, 4, 5]\n"
     ]
    }
   ],
   "source": [
    "nums =[2,3,4,5,1]\n",
    "nums.sort()\n",
    "print(nums)"
   ]
  },
  {
   "cell_type": "code",
   "execution_count": 89,
   "id": "ae5eb22b-7ede-4ea0-98de-7ee969572f87",
   "metadata": {},
   "outputs": [
    {
     "name": "stdout",
     "output_type": "stream",
     "text": [
      "6\n"
     ]
    }
   ],
   "source": [
    "### using xor gate\n",
    "arr= [1,3,4]\n",
    "n= len(arr)\n",
    "xor_all= 0\n",
    "xor_num = 0\n",
    "for i in range(n+1):\n",
    "    xor_all ^=i\n",
    "for num in arr:\n",
    "    xor_num ^=num\n",
    "print(xor_all ^ xor_num)\n",
    "    \n",
    "    "
   ]
  },
  {
   "cell_type": "code",
   "execution_count": 85,
   "id": "4403c1a3-28bf-46a4-b57c-4cf647ad4f99",
   "metadata": {},
   "outputs": [
    {
     "data": {
      "text/plain": [
       "3"
      ]
     },
     "execution_count": 85,
     "metadata": {},
     "output_type": "execute_result"
    }
   ],
   "source": [
    "class Solution:\n",
    "    def missingNumber(self, nums):\n",
    "        n = len(nums)\n",
    "        xor_all = 0\n",
    "        xor_nums = 0\n",
    "        \n",
    "        for i in range(n + 1):\n",
    "            xor_all ^= i  # XOR all numbers from 0 to n\n",
    "            \n",
    "        for num in nums:\n",
    "            xor_nums ^= num  # XOR all elements in nums\n",
    "            \n",
    "        return xor_all ^ xor_nums  # Missing number\n",
    "obj = Solution()\n",
    "ag = [4,5,2]\n",
    "obj.missingNumber(ag)\n"
   ]
  },
  {
   "cell_type": "code",
   "execution_count": null,
   "id": "9e4b689f-8ff6-40f2-a6f9-99d5224e58ef",
   "metadata": {},
   "outputs": [],
   "source": []
  }
 ],
 "metadata": {
  "kernelspec": {
   "display_name": "Python 3 (ipykernel)",
   "language": "python",
   "name": "python3"
  },
  "language_info": {
   "codemirror_mode": {
    "name": "ipython",
    "version": 3
   },
   "file_extension": ".py",
   "mimetype": "text/x-python",
   "name": "python",
   "nbconvert_exporter": "python",
   "pygments_lexer": "ipython3",
   "version": "3.12.4"
  },
  "widgets": {
   "application/vnd.jupyter.widget-state+json": {
    "state": {},
    "version_major": 2,
    "version_minor": 0
   }
  }
 },
 "nbformat": 4,
 "nbformat_minor": 5
}
