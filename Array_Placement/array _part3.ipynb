{
 "cells": [
  {
   "cell_type": "markdown",
   "id": "1e16c08a",
   "metadata": {},
   "source": [
    "### 1. return min element of aan array"
   ]
  },
  {
   "cell_type": "code",
   "execution_count": 4,
   "id": "7435ac95",
   "metadata": {},
   "outputs": [
    {
     "data": {
      "text/plain": [
       "1"
      ]
     },
     "execution_count": 4,
     "metadata": {},
     "output_type": "execute_result"
    }
   ],
   "source": [
    "class Solution:\n",
    "    def minelement(self,nums):\n",
    "        min = nums[0]\n",
    "        for i in range(len(nums)):\n",
    "            if nums[i]<min:\n",
    "                min = nums[i]\n",
    "        return min\n",
    "    \n",
    "obj = Solution()\n",
    "k = [3,2,3,1]\n",
    "obj.minelement(k)\n",
    "\n"
   ]
  },
  {
   "cell_type": "markdown",
   "id": "fcd6175a",
   "metadata": {},
   "source": [
    "### 2. return max element of an array"
   ]
  },
  {
   "cell_type": "code",
   "execution_count": 1,
   "id": "163293fc",
   "metadata": {},
   "outputs": [
    {
     "data": {
      "text/plain": [
       "8"
      ]
     },
     "execution_count": 1,
     "metadata": {},
     "output_type": "execute_result"
    }
   ],
   "source": [
    "arr = [3,4,5,6,8,8]\n",
    "max(arr)"
   ]
  },
  {
   "cell_type": "code",
   "execution_count": 10,
   "id": "ddee42c9",
   "metadata": {},
   "outputs": [
    {
     "data": {
      "text/plain": [
       "42"
      ]
     },
     "execution_count": 10,
     "metadata": {},
     "output_type": "execute_result"
    }
   ],
   "source": [
    "def maxi(arr):\n",
    "    arr = [2,3,4,6,42,42]\n",
    "    maxi = arr[0]\n",
    "    for i in range(len(arr)):\n",
    "        if arr[i]>maxi:\n",
    "            maxi = arr[i]\n",
    "    return maxi\n",
    "maxi(arr)"
   ]
  },
  {
   "cell_type": "markdown",
   "id": "3077d4e5",
   "metadata": {},
   "source": [
    "### 3. find 2nd largest or smallest in array"
   ]
  },
  {
   "cell_type": "code",
   "execution_count": 18,
   "id": "9adf0f26",
   "metadata": {},
   "outputs": [
    {
     "data": {
      "text/plain": [
       "(2, 5)"
      ]
     },
     "execution_count": 18,
     "metadata": {},
     "output_type": "execute_result"
    }
   ],
   "source": [
    "class Solution:\n",
    "    def slsm(self,arr):\n",
    "        lar = arr[0]\n",
    "        mini = arr[0]\n",
    "        for i in range(len(arr)):\n",
    "            if arr[i]>lar:\n",
    "                lar = arr[i]\n",
    "            elif (arr[i]<mini):\n",
    "                mini = arr[i]\n",
    "        sl =-1\n",
    "        sm = float('inf')\n",
    "        for j in range(len(arr)):\n",
    "            if arr[j]>sl and arr[j] !=lar:\n",
    "                sl =arr[j]\n",
    "            elif arr[j]<sm and arr[j] !=mini:\n",
    "                sm = arr[j]\n",
    "\n",
    "        return sm,sl\n",
    "arr = [4,5,2,1,3,5,6]\n",
    "obj = Solution()\n",
    "obj.slsm(arr)"
   ]
  },
  {
   "cell_type": "code",
   "execution_count": 20,
   "id": "0eefb789",
   "metadata": {},
   "outputs": [
    {
     "data": {
      "text/plain": [
       "[7, 7, 1, 2, 4, 5]"
      ]
     },
     "execution_count": 20,
     "metadata": {},
     "output_type": "execute_result"
    }
   ],
   "source": [
    "class Solution:\n",
    "    def reverse(self, arr, n):\n",
    "        p1 = 0\n",
    "        p2 = n-1\n",
    "        while p1<p2:\n",
    "            arr[p1],arr[p2] = arr[p2],arr[p1]\n",
    "            p1 +=1\n",
    "            p2 -=1\n",
    "        return arr\n",
    "obj = Solution()\n",
    "arr = [5,4,2,1,7,7]\n",
    "obj.reverse(arr,6)"
   ]
  },
  {
   "cell_type": "code",
   "execution_count": 1,
   "id": "c5fd2e4b",
   "metadata": {},
   "outputs": [],
   "source": [
    "### check a given number is palindrome or not"
   ]
  },
  {
   "cell_type": "code",
   "execution_count": 3,
   "id": "540dd9d4",
   "metadata": {},
   "outputs": [
    {
     "name": "stdout",
     "output_type": "stream",
     "text": [
      "3\n",
      "yes is armastrong.\n"
     ]
    }
   ],
   "source": [
    "num = int(input(\"Enter aany unmber: \"))\n",
    "sum =0\n",
    "original = num\n",
    "th = original\n",
    "count = 0\n",
    "while num !=0:\n",
    "    l_dight = num%10\n",
    "    count +=1\n",
    "    num = num//10\n",
    "print(count)\n",
    "\n",
    "while original !=0:\n",
    "    l1_d = original%10\n",
    "    sum += l1_d**count\n",
    "    original = original//10\n",
    "\n",
    "if sum==th:\n",
    "    print(\"yes is armastrong.\")\n",
    "else:\n",
    "    print(\"not armstrong. \")"
   ]
  },
  {
   "cell_type": "code",
   "execution_count": 44,
   "id": "142f90b6",
   "metadata": {},
   "outputs": [
    {
     "name": "stdout",
     "output_type": "stream",
     "text": [
      "2\n",
      "3\n"
     ]
    }
   ],
   "source": [
    "num = 10\n",
    "num1 = int(num ** 0.5)\n",
    "# print(num1)\n",
    "for i in range(2,num1+1):\n",
    "    print(i)"
   ]
  },
  {
   "cell_type": "code",
   "execution_count": 63,
   "id": "ddd75345",
   "metadata": {},
   "outputs": [
    {
     "name": "stdout",
     "output_type": "stream",
     "text": [
      "2\n",
      "3\n",
      "4\n",
      "5\n",
      "6\n",
      "7\n",
      "8\n",
      "9\n",
      "10\n",
      "11\n",
      "12\n",
      "13\n",
      "not prime\n"
     ]
    }
   ],
   "source": [
    "num = int(input())\n",
    "flag = True\n",
    "cnt = 0\n",
    "if num==0 or num==1:\n",
    "    print(\"not prime.\")\n",
    "else:\n",
    "    for i in range(2,(int(num**0.5))+1):\n",
    "        print(i)\n",
    "        if num%i==0:\n",
    "            flag = False\n",
    "if flag:\n",
    "    print(\"prime\")\n",
    "else:\n",
    "    print(\"not prime\")\n",
    "            "
   ]
  },
  {
   "cell_type": "code",
   "execution_count": null,
   "id": "58762495",
   "metadata": {},
   "outputs": [],
   "source": [
    "val = int(input())\n",
    "if val==0 or val==1:\n",
    "    print(\"not prime. \")\n",
    "else:\n",
    "    count =0\n",
    "    for i in range(1,val):\n"
   ]
  },
  {
   "cell_type": "code",
   "execution_count": 55,
   "id": "1719a4d0",
   "metadata": {},
   "outputs": [
    {
     "data": {
      "text/plain": [
       "'not prime. '"
      ]
     },
     "execution_count": 55,
     "metadata": {},
     "output_type": "execute_result"
    }
   ],
   "source": [
    "def prime(n):\n",
    "    if n == 0 or n==1:\n",
    "        print(\"prime. \")\n",
    "    else:\n",
    "        for i in range(2,(int(n**0.5))+1):\n",
    "            if n%i==0:\n",
    "                return \"not prime. \"\n",
    "        else:\n",
    "            return \"prime.\"\n",
    "prime(121)"
   ]
  },
  {
   "cell_type": "code",
   "execution_count": 74,
   "id": "78b4e33b",
   "metadata": {},
   "outputs": [],
   "source": [
    "def is_prime_recursive(num, i=2):\n",
    "    if num <= 1:\n",
    "        return False\n",
    "    if i * i > num:\n",
    "        return True\n",
    "    if num % i == 0:\n",
    "        return False\n",
    "    return is_prime_recursive(num, i + 1)"
   ]
  },
  {
   "cell_type": "code",
   "execution_count": 79,
   "id": "0df56e8b",
   "metadata": {},
   "outputs": [
    {
     "name": "stdout",
     "output_type": "stream",
     "text": [
      "False\n"
     ]
    }
   ],
   "source": [
    "print(is_prime_recursive(111))"
   ]
  },
  {
   "cell_type": "markdown",
   "id": "7966de0b",
   "metadata": {},
   "source": [
    "### 4. longest subarray with given sum k (positive)"
   ]
  },
  {
   "cell_type": "code",
   "execution_count": 99,
   "id": "bd50362b",
   "metadata": {},
   "outputs": [
    {
     "name": "stdout",
     "output_type": "stream",
     "text": [
      "3\n"
     ]
    }
   ],
   "source": [
    "## brute forcce approch\n",
    "arr = [1,2,3,1,1,1]\n",
    "g= 3\n",
    "n= len(arr)\n",
    "lent = 0\n",
    "for i in range(n):\n",
    "    for j in range(i,n):\n",
    "        sum = 0\n",
    "        for k in range(i,j+1):\n",
    "            sum +=arr[k]\n",
    "        if sum==g:\n",
    "            lent = max(lent,j-i+1)\n",
    "print(lent)\n",
    "        \n"
   ]
  },
  {
   "cell_type": "code",
   "execution_count": null,
   "id": "fa14cc06",
   "metadata": {},
   "outputs": [
    {
     "name": "stdout",
     "output_type": "stream",
     "text": [
      "0\n"
     ]
    }
   ],
   "source": [
    "## better approch\n",
    "arr = [10, 5, 2, 7, 1, 9]\n",
    "n= len(arr)\n",
    "g =15\n",
    "lent = 0\n",
    "for i in range(n):\n",
    "    s = 0\n",
    "    for j in range(i,n):\n",
    "        s +=arr[j]\n",
    "        if s ==g:\n",
    "            lent = max(lent,j-i+1)\n",
    "print(lent)\n",
    "    "
   ]
  },
  {
   "cell_type": "code",
   "execution_count": 4,
   "id": "a8cb2135",
   "metadata": {},
   "outputs": [
    {
     "data": {
      "text/plain": [
       "[0, 3]"
      ]
     },
     "execution_count": 4,
     "metadata": {},
     "output_type": "execute_result"
    }
   ],
   "source": [
    "class Solution:\n",
    "    def twoSum(self, nums, target):\n",
    "        n= len(nums)\n",
    "        left = 0\n",
    "        right = n-1\n",
    "        s =0\n",
    "        while left<right:\n",
    "            s  = nums[left]+nums[right]\n",
    "            if s==target:\n",
    "                return [left,right]\n",
    "            elif s<target:\n",
    "                left +=1\n",
    "            else:\n",
    "                right -=1\n",
    "obj = Solution()\n",
    "nums = [1,1,1,2,3,4,5]\n",
    "target = 3\n",
    "obj.twoSum(nums,target)"
   ]
  },
  {
   "cell_type": "markdown",
   "id": "ae5bfd30",
   "metadata": {},
   "source": [
    "### 5 majority element (>n/2)"
   ]
  },
  {
   "cell_type": "code",
   "execution_count": 18,
   "id": "f197915d",
   "metadata": {},
   "outputs": [
    {
     "data": {
      "text/plain": [
       "'kuch bhi nhi hai bhaya...'"
      ]
     },
     "execution_count": 18,
     "metadata": {},
     "output_type": "execute_result"
    }
   ],
   "source": [
    "#brute\n",
    "class Solution:\n",
    "    def majority(self,arr):\n",
    "        n= len(arr)\n",
    "        for i in range(n):\n",
    "            cnt = 0\n",
    "            for j in range(n):\n",
    "                if arr[j] ==arr[i]:\n",
    "                    cnt +=1\n",
    "            if cnt>n//2:\n",
    "                return arr[i]\n",
    "            else:\n",
    "                return \"kuch bhi nhi hai bhaya...\"\n",
    "obj = Solution()\n",
    "arr = [1,3,4]\n",
    "obj.majority(arr)"
   ]
  },
  {
   "cell_type": "code",
   "execution_count": 22,
   "id": "dda0393f",
   "metadata": {},
   "outputs": [
    {
     "name": "stdout",
     "output_type": "stream",
     "text": [
      "3\n",
      "koi element ka utna dm nhi hai ki ho jaye....\n"
     ]
    }
   ],
   "source": [
    "## better solution.\n",
    "from collections import Counter\n",
    "arr = [1,3,3,3,3,3,3,3,3,4,5,6,7]\n",
    "n = len(arr)\n",
    "counter = Counter(arr)\n",
    "for key,val in counter.items():\n",
    "    if val>n//2:\n",
    "        print(key)\n",
    "else:\n",
    "    print(\"koi element ka utna dm nhi hai ki ho jaye....\")"
   ]
  },
  {
   "cell_type": "code",
   "execution_count": 26,
   "id": "fddf39f4",
   "metadata": {},
   "outputs": [
    {
     "name": "stdout",
     "output_type": "stream",
     "text": [
      "0\n"
     ]
    }
   ],
   "source": [
    "## optimal solution\n",
    "arr= [1,2,3,4,4,4,3,2,2,3,2,32,2,2]\n",
    "ele = 0\n",
    "cnt = 0\n",
    "n= len(arr)\n",
    "for i in range(n):\n",
    "    if arr[i]==ele:\n",
    "        cnt +=1\n",
    "        ele.append(arr[i])\n",
    "else:\n",
    "    cnt -=1\n",
    "print(ele)"
   ]
  },
  {
   "cell_type": "code",
   "execution_count": 1,
   "id": "4661e79b",
   "metadata": {},
   "outputs": [],
   "source": [
    "### maximum sum in an array givven that the length should be k- 4"
   ]
  },
  {
   "cell_type": "code",
   "execution_count": 13,
   "id": "ad618cad",
   "metadata": {},
   "outputs": [
    {
     "name": "stdout",
     "output_type": "stream",
     "text": [
      "15\n"
     ]
    }
   ],
   "source": [
    "arr = [-1, 2, 3, 3, 4, 5, -1]\n",
    "k = 4\n",
    "l = 0\n",
    "r = k - 1  # size of window\n",
    "n = len(arr)\n",
    "\n",
    "sum1 = sum(arr[l:r+1])  # initial window sum\n",
    "max_sum = sum1\n",
    "\n",
    "while r < n - 1:\n",
    "    sum1 = sum1 - arr[l] + arr[r + 1]\n",
    "    l += 1\n",
    "    r += 1\n",
    "    max_sum = max(max_sum, sum1)\n",
    "\n",
    "print(max_sum)\n"
   ]
  },
  {
   "cell_type": "code",
   "execution_count": null,
   "id": "86af41dc",
   "metadata": {},
   "outputs": [
    {
     "data": {
      "text/plain": [
       "'()()()'"
      ]
     },
     "execution_count": 6,
     "metadata": {},
     "output_type": "execute_result"
    }
   ],
   "source": [
    "#### 10. remove OUTER PARANTHESIS FROM GIVEN SET OF STRING\n",
    "\n",
    "class Solution:\n",
    "    def removeOuterParentheses(self, s: str) -> str:\n",
    "        ans = ''\n",
    "        cnt = 0\n",
    "        n = len(s)\n",
    "        for i in range(n):\n",
    "            if s[i]==')':\n",
    "                cnt -=1\n",
    "            if (cnt !=0):\n",
    "                ans +=s[i]\n",
    "            if s[i]=='(':\n",
    "                cnt +=1\n",
    "        return ans\n",
    "obj = Solution()\n",
    "s = '(()())(())'\n",
    "obj.removeOuterParentheses(s)"
   ]
  },
  {
   "cell_type": "code",
   "execution_count": 19,
   "id": "48fe4d2e",
   "metadata": {},
   "outputs": [
    {
     "data": {
      "text/plain": [
       "''"
      ]
     },
     "execution_count": 19,
     "metadata": {},
     "output_type": "execute_result"
    }
   ],
   "source": [
    "### 11. PRINT MAXIMUM ODD FORM GIVEN SET OF STRNG OF INT VALUE\n",
    "class Solution:\n",
    "    def largestOddNumber(self, num: str) -> str:\n",
    "\n",
    "        for i in num:\n",
    "            larg = ''\n",
    "            if int(i)%2 == 1:\n",
    "                larg +=i\n",
    "            return larg\n",
    "\n",
    "obj = Solution()\n",
    "num = '4206'\n",
    "obj.largestOddNumber(num)"
   ]
  },
  {
   "cell_type": "code",
   "execution_count": 40,
   "id": "547a7703",
   "metadata": {},
   "outputs": [
    {
     "name": "stdout",
     "output_type": "stream",
     "text": [
      "52\n"
     ]
    }
   ],
   "source": [
    "num ='5211'\n",
    "print(num[0:2])"
   ]
  },
  {
   "cell_type": "code",
   "execution_count": 42,
   "id": "6d9a402a",
   "metadata": {},
   "outputs": [
    {
     "data": {
      "text/plain": [
       "True"
      ]
     },
     "execution_count": 42,
     "metadata": {},
     "output_type": "execute_result"
    }
   ],
   "source": [
    "class Solution:\n",
    "    def isIsomorphic(self, s: str, t: str) -> bool:\n",
    "        map1,map2 = {},{}\n",
    "        for i in range(len(s)):\n",
    "            c1,c2 = s[i],t[i]\n",
    "        #for c1,c2 in zip(s,t):\n",
    "            if ((c1 in map1 and map1[c1] !=c2) or (c2 in map2 and map2[c2] !=c1)):\n",
    "                return False\n",
    "            map1[c1] =c2\n",
    "            map2[c2] = c1\n",
    "        return True\n",
    "obj = Solution()\n",
    "s = 'title'\n",
    "t = 'paper'\n",
    "obj.isIsomorphic(s,t)"
   ]
  },
  {
   "cell_type": "code",
   "execution_count": 1,
   "id": "79f16d6c",
   "metadata": {},
   "outputs": [
    {
     "name": "stdout",
     "output_type": "stream",
     "text": [
      "True\n"
     ]
    }
   ],
   "source": [
    "a=3\n",
    "b=3\n",
    "print(a is b)"
   ]
  },
  {
   "cell_type": "code",
   "execution_count": 4,
   "id": "c60ed44e",
   "metadata": {},
   "outputs": [
    {
     "name": "stdout",
     "output_type": "stream",
     "text": [
      "<class 'float'>\n",
      "False\n"
     ]
    }
   ],
   "source": [
    "a =300.0\n",
    "b=300.0\n",
    "print(type(a))\n",
    "print(a is b)"
   ]
  },
  {
   "cell_type": "code",
   "execution_count": 19,
   "id": "689ae93f",
   "metadata": {},
   "outputs": [
    {
     "ename": "TypeError",
     "evalue": "'int' object is not callable",
     "output_type": "error",
     "traceback": [
      "\u001b[1;31m---------------------------------------------------------------------------\u001b[0m",
      "\u001b[1;31mTypeError\u001b[0m                                 Traceback (most recent call last)",
      "Cell \u001b[1;32mIn[19], line 8\u001b[0m\n\u001b[0;32m      6\u001b[0m     cost \u001b[38;5;241m=\u001b[39m arr[i]\u001b[38;5;241m-\u001b[39mmi\n\u001b[0;32m      7\u001b[0m     mx \u001b[38;5;241m=\u001b[39m \u001b[38;5;28mmax\u001b[39m(mx,cost)\n\u001b[1;32m----> 8\u001b[0m     mi \u001b[38;5;241m=\u001b[39m \u001b[38;5;28;43mmin\u001b[39;49m\u001b[43m(\u001b[49m\u001b[43mmi\u001b[49m\u001b[43m,\u001b[49m\u001b[43marr\u001b[49m\u001b[43m[\u001b[49m\u001b[43mi\u001b[49m\u001b[43m]\u001b[49m\u001b[43m)\u001b[49m\n\u001b[0;32m      9\u001b[0m \u001b[38;5;28mprint\u001b[39m(mx)\n",
      "\u001b[1;31mTypeError\u001b[0m: 'int' object is not callable"
     ]
    }
   ],
   "source": [
    "arr = [7,1,5,6,3,4]\n",
    "n = len(arr)\n",
    "mi = arr[0]\n",
    "mx = 0\n",
    "for i in range(0,n):\n",
    "    cost = arr[i]-mi\n",
    "    mx = max(mx,cost)\n",
    "    mi = min(mi,arr[i])\n",
    "print(mx)"
   ]
  },
  {
   "cell_type": "code",
   "execution_count": 21,
   "id": "5e582744",
   "metadata": {},
   "outputs": [
    {
     "ename": "TypeError",
     "evalue": "'int' object is not callable",
     "output_type": "error",
     "traceback": [
      "\u001b[1;31m---------------------------------------------------------------------------\u001b[0m",
      "\u001b[1;31mTypeError\u001b[0m                                 Traceback (most recent call last)",
      "Cell \u001b[1;32mIn[21], line 9\u001b[0m\n\u001b[0;32m      7\u001b[0m     cost \u001b[38;5;241m=\u001b[39m arr[i] \u001b[38;5;241m-\u001b[39m mi      \u001b[38;5;66;03m# ✅ use variable mi, not built-in min\u001b[39;00m\n\u001b[0;32m      8\u001b[0m     mx \u001b[38;5;241m=\u001b[39m \u001b[38;5;28mmax\u001b[39m(mx, cost)      \u001b[38;5;66;03m# ✅ max is fine (not shadowed)\u001b[39;00m\n\u001b[1;32m----> 9\u001b[0m     mi \u001b[38;5;241m=\u001b[39m \u001b[38;5;28;43mmin\u001b[39;49m\u001b[43m(\u001b[49m\u001b[43mmi\u001b[49m\u001b[43m,\u001b[49m\u001b[43m \u001b[49m\u001b[43marr\u001b[49m\u001b[43m[\u001b[49m\u001b[43mi\u001b[49m\u001b[43m]\u001b[49m\u001b[43m)\u001b[49m    \u001b[38;5;66;03m# ✅ min is still usable since you didn't override it\u001b[39;00m\n\u001b[0;32m     11\u001b[0m \u001b[38;5;28mprint\u001b[39m(mx)\n",
      "\u001b[1;31mTypeError\u001b[0m: 'int' object is not callable"
     ]
    }
   ],
   "source": [
    "arr = [7, 1, 5, 6, 3, 4]\n",
    "n = len(arr)\n",
    "mi = arr[0]\n",
    "mx = 0\n",
    "\n",
    "for i in range(n):\n",
    "    cost = arr[i] - mi      # ✅ use variable mi, not built-in min\n",
    "    mx = max(mx, cost)      # ✅ max is fine (not shadowed)\n",
    "    mi = min(mi, arr[i])    # ✅ min is still usable since you didn't override it\n",
    "\n",
    "print(mx)\n"
   ]
  },
  {
   "cell_type": "code",
   "execution_count": null,
   "id": "2ea830b7",
   "metadata": {},
   "outputs": [],
   "source": []
  }
 ],
 "metadata": {
  "kernelspec": {
   "display_name": "Python (myenv)",
   "language": "python",
   "name": "myenv"
  },
  "language_info": {
   "codemirror_mode": {
    "name": "ipython",
    "version": 3
   },
   "file_extension": ".py",
   "mimetype": "text/x-python",
   "name": "python",
   "nbconvert_exporter": "python",
   "pygments_lexer": "ipython3",
   "version": "3.12.0"
  }
 },
 "nbformat": 4,
 "nbformat_minor": 5
}
