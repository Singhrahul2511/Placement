{
 "cells": [
  {
   "cell_type": "markdown",
   "id": "10d4e0df-ecbe-4dff-94c5-57ee21fe7c5a",
   "metadata": {},
   "source": [
    "### Largest element of an array"
   ]
  },
  {
   "cell_type": "code",
   "execution_count": 1,
   "id": "bc602c84-50cf-4ca8-ba46-e201f6ff12a8",
   "metadata": {},
   "outputs": [
    {
     "name": "stdout",
     "output_type": "stream",
     "text": [
      "8\n"
     ]
    }
   ],
   "source": [
    "a=[4,5,6,8,4,3,2,4,7]\n",
    "largest=a[0]\n",
    "n =len(a)\n",
    "for i in range(0,n):\n",
    "    if a[i]>largest:\n",
    "        largest =a[i]\n",
    "print(largest)"
   ]
  },
  {
   "cell_type": "code",
   "execution_count": 3,
   "id": "a5c0c06e-d9cc-42d7-b713-231e2b0d1902",
   "metadata": {},
   "outputs": [
    {
     "name": "stdout",
     "output_type": "stream",
     "text": [
      "-12\n"
     ]
    }
   ],
   "source": [
    "class Solution:\n",
    "    def largestElement(self, nums):\n",
    "        n = len(nums)\n",
    "        largest = nums[0]\n",
    "        for i in range(0,n):\n",
    "            if nums[i]>largest:\n",
    "                largest = nums[i]\n",
    "        print(largest)\n",
    "obj = Solution()\n",
    "arr = [-44,-12]\n",
    "obj.largestElement(arr)\n",
    "\n",
    "        "
   ]
  },
  {
   "cell_type": "markdown",
   "id": "9eddf8e6-8141-48c9-9d97-4e50bbd137ac",
   "metadata": {},
   "source": [
    "### Second largest element "
   ]
  },
  {
   "cell_type": "code",
   "execution_count": 68,
   "id": "1bffc569-1090-49eb-baab-83dd9523e9d3",
   "metadata": {},
   "outputs": [
    {
     "name": "stdout",
     "output_type": "stream",
     "text": [
      "4\n"
     ]
    }
   ],
   "source": [
    "arr = [4,15,61,7,8]\n",
    "n= len(arr)\n",
    "arr.sort()\n",
    "largest = arr[n-1]\n",
    "for i in range(n-2,-1,-1):\n",
    "    if arr[i] != largest:  \n",
    "        sl= arr[i]\n",
    "        break\n",
    "print(sl)"
   ]
  },
  {
   "cell_type": "code",
   "execution_count": 78,
   "id": "af79cf36-a728-46e5-83f9-d6f3f8122952",
   "metadata": {},
   "outputs": [
    {
     "name": "stdout",
     "output_type": "stream",
     "text": [
      "15\n"
     ]
    }
   ],
   "source": [
    "arr = [4,15,61,7,8]\n",
    "arr.sort()\n",
    "print(min(arr[-2:]))"
   ]
  },
  {
   "cell_type": "markdown",
   "id": "d9d6c9b5-b41f-459c-90a2-19568979bf3f",
   "metadata": {},
   "source": [
    "### better approch"
   ]
  },
  {
   "cell_type": "code",
   "execution_count": 99,
   "id": "c1f6dc69-ddcd-440a-a724-c95a8a9d40ee",
   "metadata": {},
   "outputs": [
    {
     "name": "stdout",
     "output_type": "stream",
     "text": [
      "23\n",
      "12\n",
      "45\n",
      "6\n",
      "90\n",
      "89\n",
      "1\n"
     ]
    }
   ],
   "source": [
    "ls = [23, 12, 45, 6,90, 89, 1]\n",
    "for i in ls:\n",
    "    print(i)"
   ]
  },
  {
   "cell_type": "code",
   "execution_count": 129,
   "id": "7477358a-1e42-4387-b410-89c7ec4720bf",
   "metadata": {},
   "outputs": [
    {
     "name": "stdout",
     "output_type": "stream",
     "text": [
      "8\n"
     ]
    }
   ],
   "source": [
    "class Solution:\n",
    "    def secondLargestElement(self, nums):\n",
    "        n = len(nums)\n",
    "        largest = nums[0]\n",
    "        for i in range(n):\n",
    "            if nums[i] > largest:\n",
    "                largest = nums[i] \n",
    "        sl = -1\n",
    "        for j in range(n):\n",
    "            if nums[j] > sl and nums[j] != largest:\n",
    "                sl = nums[j]\n",
    "        print(sl)\n",
    "obj = Solution()\n",
    "j = [4, 6, 7, 8, 9, 6, 5]\n",
    "obj.secondLargestElement(j)\n"
   ]
  },
  {
   "cell_type": "code",
   "execution_count": 121,
   "id": "25027754-b12e-443a-8c80-d315528f0a89",
   "metadata": {},
   "outputs": [
    {
     "name": "stdout",
     "output_type": "stream",
     "text": [
      "8\n"
     ]
    }
   ],
   "source": [
    "arr = [2,6,8,64]\n",
    "arr.sort()\n",
    "print(min(arr[-2:]))"
   ]
  },
  {
   "cell_type": "markdown",
   "id": "738948f8-7b64-4d8f-8d8f-24430f0506cd",
   "metadata": {},
   "source": [
    "### optimized code"
   ]
  },
  {
   "cell_type": "code",
   "execution_count": 105,
   "id": "a319a41b-7f6f-4f38-876e-2e2ad6f8651b",
   "metadata": {},
   "outputs": [
    {
     "name": "stdout",
     "output_type": "stream",
     "text": [
      "78\n"
     ]
    }
   ],
   "source": [
    "ar = [23, 12, 45, 1, 56, 78, 564]\n",
    "first = float(\"-inf\")\n",
    "second = float(\"-inf\")\n",
    "for i in ar:\n",
    "    if (i > first):\n",
    "        second = first\n",
    "        first = i\n",
    "    elif(i > second):\n",
    "        second = i\n",
    "print(second)\n",
    "        "
   ]
  },
  {
   "cell_type": "code",
   "execution_count": 140,
   "id": "c3a73d54-1b4f-489a-be5b-62e0f1eede40",
   "metadata": {},
   "outputs": [
    {
     "name": "stdout",
     "output_type": "stream",
     "text": [
      "even =  9 Odd =  13\n"
     ]
    }
   ],
   "source": [
    "n = 1141135423573425648677\n",
    "even = 0\n",
    "odd = 0\n",
    "while ( n != 0):\n",
    "    digit = n % 10\n",
    "    if digit % 2 == 0:\n",
    "        even += 1\n",
    "    else:\n",
    "        odd += 1\n",
    "    n = n // 10\n",
    "\n",
    "\n",
    "print(\"even = \", even , \"Odd = \", odd)\n",
    "    "
   ]
  },
  {
   "cell_type": "markdown",
   "id": "7f9062af-3be5-489e-8278-520c28a9627b",
   "metadata": {},
   "source": [
    "### check array is sorted"
   ]
  },
  {
   "cell_type": "code",
   "execution_count": 176,
   "id": "86226102-08c7-44ca-bdcb-0bafd1d5e3f6",
   "metadata": {},
   "outputs": [
    {
     "name": "stdout",
     "output_type": "stream",
     "text": [
      "False\n"
     ]
    }
   ],
   "source": [
    "def isNonDecreasing(r):\n",
    "    n = len(r)\n",
    "    for i in range(1, n):\n",
    "        if r[i] <= r[i - 1]:\n",
    "            return False\n",
    "    return True\n",
    "\n",
    "# Test\n",
    "r = [1,2,23,14]\n",
    "print(isNonDecreasing(r))  # Output: False\n"
   ]
  },
  {
   "cell_type": "markdown",
   "id": "ed590eb3-8b6f-4415-9d94-c584e251f044",
   "metadata": {},
   "source": [
    "### check if an array is sorted or not"
   ]
  },
  {
   "cell_type": "code",
   "execution_count": 2,
   "id": "5f343772-ca2b-4284-9ba8-de7a7f9df390",
   "metadata": {},
   "outputs": [
    {
     "name": "stdout",
     "output_type": "stream",
     "text": [
      "Enter array elements. 4 5 3 5 6\n"
     ]
    },
    {
     "name": "stdout",
     "output_type": "stream",
     "text": [
      "not sorted. \n"
     ]
    }
   ],
   "source": [
    "def sorted(arr,n):\n",
    "    for i in range(n):\n",
    "        for j in range(i+1,n):\n",
    "            if arr[i]>arr[j]:\n",
    "                return False\n",
    "    return True\n",
    "if __name__ == \"__main__\" :\n",
    "    arr = list(map(int,input(\"Enter array elements.\").split()))\n",
    "    n = len(arr)\n",
    "    ans = sorted(arr,n)\n",
    "    if ans:\n",
    "        print(\"soted array. \")\n",
    "    else:\n",
    "        print(\"not sorted. \")\n"
   ]
  },
  {
   "cell_type": "markdown",
   "id": "6bff57c0-f44d-4545-9d9a-52a0d672a240",
   "metadata": {},
   "source": [
    "### optimized approch for aaray sorting"
   ]
  },
  {
   "cell_type": "code",
   "execution_count": 8,
   "id": "ef748053-18b3-4fac-87d0-036eeffb7371",
   "metadata": {},
   "outputs": [
    {
     "name": "stdout",
     "output_type": "stream",
     "text": [
      "Enter elements of array. 23 45 56\n"
     ]
    },
    {
     "name": "stdout",
     "output_type": "stream",
     "text": [
      "True\n"
     ]
    }
   ],
   "source": [
    "def issorted(arr,n):\n",
    "    for i in range(1,n):\n",
    "        if arr[i]<arr[i-1]:\n",
    "            return False\n",
    "    return True\n",
    "if __name__ == \"__main__\":\n",
    "    arr = list(map(int,input(\"Enter elements of array.\").split()))\n",
    "    n= len(arr)\n",
    "    print(\"True\" if issorted(arr,n) else \"False\")"
   ]
  },
  {
   "cell_type": "code",
   "execution_count": 3,
   "id": "e2d8a89b-9175-42c3-b616-81e91682c994",
   "metadata": {},
   "outputs": [
    {
     "name": "stdout",
     "output_type": "stream",
     "text": [
      "Enter array elements:  5 62 2\n"
     ]
    },
    {
     "name": "stdout",
     "output_type": "stream",
     "text": [
      "{2, 5, 62}\n"
     ]
    }
   ],
   "source": [
    "ak = list(map(int, input(\"Enter array elements: \").split()))\n",
    "empty_set = set(ak)\n",
    "for i in range(len(ak)):\n",
    "    empty_set.add(ak[i])\n",
    "print(empty_set)"
   ]
  },
  {
   "cell_type": "code",
   "execution_count": 5,
   "id": "324636be-64d9-4504-b2e9-4d8008e02c09",
   "metadata": {},
   "outputs": [
    {
     "name": "stdout",
     "output_type": "stream",
     "text": [
      "2 3 4 5 1 \n"
     ]
    }
   ],
   "source": [
    "\n",
    "def solve(arr, n):\n",
    "    temp = [0] * n\n",
    "    for i in range(1, n):\n",
    "        temp[i - 1] = arr[i]\n",
    "    temp[n - 1] = arr[0]\n",
    "    for i in range(n):\n",
    "        print(temp[i], end=\" \")\n",
    "    print()\n",
    "\n",
    "n = 5\n",
    "arr = [1, 2, 3, 4, 5]\n",
    "solve(arr, n)\n",
    "\n"
   ]
  },
  {
   "cell_type": "markdown",
   "id": "1e61057a-7e45-42ab-99bb-5658b90ecd72",
   "metadata": {},
   "source": [
    "### we need to rotate the array element by one left round."
   ]
  },
  {
   "cell_type": "code",
   "execution_count": 14,
   "id": "e5956485-2b0e-48df-b042-e5a66e464f9c",
   "metadata": {},
   "outputs": [
    {
     "name": "stdout",
     "output_type": "stream",
     "text": [
      "[4, 5, 6, 7, 2]\n"
     ]
    }
   ],
   "source": [
    "arr =[2,4,5,6,7]\n",
    "n= len(arr)\n",
    "temp = arr[0]\n",
    "for i in range(1,n):\n",
    "    arr[i-1] = arr[i]\n",
    "arr[n-1] = temp\n",
    "print(arr)"
   ]
  },
  {
   "cell_type": "code",
   "execution_count": 1,
   "id": "7194ff56-0c5d-474b-a003-d28407ca43a3",
   "metadata": {},
   "outputs": [],
   "source": [
    "def length(lst):\n",
    "    count = 0\n",
    "    for i in lst:\n",
    "        count += 1\n",
    "    return count"
   ]
  },
  {
   "cell_type": "code",
   "execution_count": 21,
   "id": "e15ea81d-6e7b-4646-8218-f7dab59cb391",
   "metadata": {},
   "outputs": [
    {
     "name": "stdout",
     "output_type": "stream",
     "text": [
      "5\n"
     ]
    }
   ],
   "source": [
    "lst = [1, 3, 5, 6, 7]\n",
    "print(length(lst))"
   ]
  },
  {
   "cell_type": "code",
   "execution_count": 23,
   "id": "f1168d0d-3287-444f-b705-b590a15ff6d4",
   "metadata": {},
   "outputs": [],
   "source": [
    "# len(lst)"
   ]
  },
  {
   "cell_type": "markdown",
   "id": "2053dba7-ec46-4f09-95ea-aa2c1f02203d",
   "metadata": {},
   "source": [
    "### a. BRUTE FORCE APPROCH TO SOLVE ROTATION OF AN ARRAY."
   ]
  },
  {
   "cell_type": "code",
   "execution_count": 28,
   "id": "05a743c8-a641-4d13-90c5-733763e7da6c",
   "metadata": {},
   "outputs": [
    {
     "ename": "TypeError",
     "evalue": "'int' object is not callable",
     "output_type": "error",
     "traceback": [
      "\u001b[1;31m---------------------------------------------------------------------------\u001b[0m",
      "\u001b[1;31mTypeError\u001b[0m                                 Traceback (most recent call last)",
      "Cell \u001b[1;32mIn[28], line 2\u001b[0m\n\u001b[0;32m      1\u001b[0m arr \u001b[38;5;241m=\u001b[39m [\u001b[38;5;241m1\u001b[39m,\u001b[38;5;241m2\u001b[39m,\u001b[38;5;241m3\u001b[39m,\u001b[38;5;241m4\u001b[39m,\u001b[38;5;241m5\u001b[39m,\u001b[38;5;241m6\u001b[39m,\u001b[38;5;241m7\u001b[39m]\n\u001b[1;32m----> 2\u001b[0m n\u001b[38;5;241m=\u001b[39m \u001b[38;5;28;43mlen\u001b[39;49m\u001b[43m(\u001b[49m\u001b[43marr\u001b[49m\u001b[43m)\u001b[49m\n\u001b[0;32m      3\u001b[0m d \u001b[38;5;241m=\u001b[39m \u001b[38;5;241m3\u001b[39m\n\u001b[0;32m      4\u001b[0m temp \u001b[38;5;241m=\u001b[39m [\u001b[38;5;241m1\u001b[39m,\u001b[38;5;241m2\u001b[39m,\u001b[38;5;241m3\u001b[39m]\n",
      "\u001b[1;31mTypeError\u001b[0m: 'int' object is not callable"
     ]
    }
   ],
   "source": [
    "arr = [1,2,3,4,5,6,7]\n",
    "n= len(arr)\n",
    "d = 3\n",
    "temp = [1,2,3]\n",
    "for i in range(d,n+1):\n",
    "    arr[i-d] = arr[i]\n",
    "j = 0\n",
    "for i in range(n-d,n+1):\n",
    "    arr[i] = temp[j]\n",
    "    j +=1\n",
    "print(arr)\n",
    "    \n",
    "    \n"
   ]
  },
  {
   "cell_type": "code",
   "execution_count": 30,
   "id": "cc5ada28-fcca-4da3-8056-8e20fa34864a",
   "metadata": {},
   "outputs": [
    {
     "ename": "TypeError",
     "evalue": "'int' object is not callable",
     "output_type": "error",
     "traceback": [
      "\u001b[1;31m---------------------------------------------------------------------------\u001b[0m",
      "\u001b[1;31mTypeError\u001b[0m                                 Traceback (most recent call last)",
      "Cell \u001b[1;32mIn[30], line 2\u001b[0m\n\u001b[0;32m      1\u001b[0m babu \u001b[38;5;241m=\u001b[39m[\u001b[38;5;241m1\u001b[39m,\u001b[38;5;241m2\u001b[39m,\u001b[38;5;241m3\u001b[39m,\u001b[38;5;241m4\u001b[39m,\u001b[38;5;241m5\u001b[39m,\u001b[38;5;241m6\u001b[39m,\u001b[38;5;241m7\u001b[39m]\n\u001b[1;32m----> 2\u001b[0m n \u001b[38;5;241m=\u001b[39m \u001b[38;5;28;43mlen\u001b[39;49m\u001b[43m(\u001b[49m\u001b[43mbabu\u001b[49m\u001b[43m)\u001b[49m\n\u001b[0;32m      3\u001b[0m k \u001b[38;5;241m=\u001b[39m k\u001b[38;5;241m%\u001b[39mn\n\u001b[0;32m      4\u001b[0m babu[:] \u001b[38;5;241m=\u001b[39m babu[k:] \u001b[38;5;241m+\u001b[39mbabu[:\u001b[38;5;241m-\u001b[39mk]\n",
      "\u001b[1;31mTypeError\u001b[0m: 'int' object is not callable"
     ]
    }
   ],
   "source": [
    "babu =[1,2,3,4,5,6,7]\n",
    "n = len(babu)\n",
    "k = k%n\n",
    "babu[:] = babu[k:] +babu[:-k]"
   ]
  },
  {
   "cell_type": "code",
   "execution_count": 1,
   "id": "52020685-2b8d-4c48-bd9b-85787b29ae95",
   "metadata": {},
   "outputs": [
    {
     "name": "stdout",
     "output_type": "stream",
     "text": [
      "5\n"
     ]
    }
   ],
   "source": [
    "arr = [7,1,5,6,3,4]\n",
    "n = len(arr)\n",
    "mi = arr[0]\n",
    "mx = 0\n",
    "for i in range(0,n):\n",
    "    cost = arr[i]-mi\n",
    "    mx = max(mx,cost)\n",
    "    mi = min(mi,arr[i])\n",
    "print(mx)"
   ]
  },
  {
   "cell_type": "code",
   "execution_count": null,
   "id": "c4fae096",
   "metadata": {},
   "outputs": [],
   "source": []
  }
 ],
 "metadata": {
  "kernelspec": {
   "display_name": "Python (myenv)",
   "language": "python",
   "name": "myenv"
  },
  "language_info": {
   "codemirror_mode": {
    "name": "ipython",
    "version": 3
   },
   "file_extension": ".py",
   "mimetype": "text/x-python",
   "name": "python",
   "nbconvert_exporter": "python",
   "pygments_lexer": "ipython3",
   "version": "3.12.0"
  },
  "widgets": {
   "application/vnd.jupyter.widget-state+json": {
    "state": {},
    "version_major": 2,
    "version_minor": 0
   }
  }
 },
 "nbformat": 4,
 "nbformat_minor": 5
}
