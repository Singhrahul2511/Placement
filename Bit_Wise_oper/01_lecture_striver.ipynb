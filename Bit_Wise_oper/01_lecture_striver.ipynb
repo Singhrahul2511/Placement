{
 "cells": [
  {
   "cell_type": "markdown",
   "id": "40195f69",
   "metadata": {},
   "source": [
    "### 1. DECIMAL TO BINARY"
   ]
  },
  {
   "cell_type": "code",
   "execution_count": 24,
   "id": "8b740138",
   "metadata": {},
   "outputs": [
    {
     "data": {
      "text/plain": [
       "'1100100'"
      ]
     },
     "execution_count": 24,
     "metadata": {},
     "output_type": "execute_result"
    }
   ],
   "source": [
    "##1.   CONVERT DECIMAL TO BINARY\n",
    "\n",
    "\n",
    "def convert2binary(num):\n",
    "    res= ''\n",
    "    while num>0:\n",
    "        if (num%2==1):\n",
    "            res +='1'\n",
    "        else:\n",
    "            res +='0'\n",
    "        num = num//2\n",
    "    res = res[len(res)::-1]\n",
    "    return res\n",
    "convert2binary(100)"
   ]
  },
  {
   "cell_type": "code",
   "execution_count": null,
   "id": "1ae48f2d",
   "metadata": {},
   "outputs": [
    {
     "name": "stdout",
     "output_type": "stream",
     "text": [
      "1100100\n"
     ]
    }
   ],
   "source": [
    "## 2.SECOND APPROCH\n",
    "\n",
    "def convert2binary(num):\n",
    "    res = ''\n",
    "    while num > 0:\n",
    "        res += str(num % 2)\n",
    "        num //= 2\n",
    "    return res[::-1]\n",
    "\n",
    "print(convert2binary(100))  # Output: 1101\n",
    "\n",
    "# tc = log2^n and sc = log2^n since dividing num each time"
   ]
  },
  {
   "cell_type": "code",
   "execution_count": 4,
   "id": "652b08fd",
   "metadata": {},
   "outputs": [
    {
     "name": "stdout",
     "output_type": "stream",
     "text": [
      "2\n"
     ]
    }
   ],
   "source": [
    "print(4//2)"
   ]
  },
  {
   "cell_type": "markdown",
   "id": "3959b99a",
   "metadata": {},
   "source": [
    "### 2. BINARY TO DECIMAL"
   ]
  },
  {
   "cell_type": "code",
   "execution_count": null,
   "id": "7cd3dcba",
   "metadata": {},
   "outputs": [
    {
     "data": {
      "text/plain": [
       "10"
      ]
     },
     "execution_count": 31,
     "metadata": {},
     "output_type": "execute_result"
    }
   ],
   "source": [
    "def convert2decimal(n):\n",
    "    l = len(n)\n",
    "    p2 = 1\n",
    "    num = 0\n",
    "    for i in range(l-1,-1,-1):\n",
    "        if n[i]=='1':\n",
    "            num = num +p2\n",
    "        p2 = p2*2\n",
    "    return num\n",
    "convert2decimal(str(1010))\n",
    "# tc will be "
   ]
  },
  {
   "cell_type": "code",
   "execution_count": 34,
   "id": "d19bc73a",
   "metadata": {},
   "outputs": [
    {
     "name": "stdout",
     "output_type": "stream",
     "text": [
      "3 5\n"
     ]
    }
   ],
   "source": [
    "## swap two number without using 3rd vcar\n",
    "a =5\n",
    "b =3\n",
    "tem= a\n",
    "a =b\n",
    "b= tem\n",
    "print(a,b)"
   ]
  },
  {
   "cell_type": "code",
   "execution_count": 36,
   "id": "ab08b37f",
   "metadata": {},
   "outputs": [
    {
     "name": "stdout",
     "output_type": "stream",
     "text": [
      "3 5\n"
     ]
    }
   ],
   "source": [
    "a = 5\n",
    "b= 3\n",
    "a = a^b\n",
    "b= a^b\n",
    "a = a^b\n",
    "print(a,b)"
   ]
  },
  {
   "cell_type": "code",
   "execution_count": 51,
   "id": "8a4b6c61",
   "metadata": {},
   "outputs": [
    {
     "data": {
      "text/plain": [
       "'not set'"
      ]
     },
     "execution_count": 51,
     "metadata": {},
     "output_type": "execute_result"
    }
   ],
   "source": [
    "## 3 CHECK IF ith bit is set or not\n",
    "def check(num, k):\n",
    "    for i in range(len(num)-1,k,-1):\n",
    "        if num[i]=='1':\n",
    "            return 'set'\n",
    "        else:\n",
    "            return 'not set'\n",
    "check(str(10110),2)"
   ]
  },
  {
   "cell_type": "code",
   "execution_count": 12,
   "id": "219318ce",
   "metadata": {},
   "outputs": [
    {
     "data": {
      "text/plain": [
       "13"
      ]
     },
     "execution_count": 12,
     "metadata": {},
     "output_type": "execute_result"
    }
   ],
   "source": [
    "## 4. set the ith bit to 1 .remaining as it is?\n",
    "\n",
    "def setithbit(N,i):\n",
    "    return N | (1<<i)\n",
    "setithbit(13,3)\n",
    "\n",
    "\n"
   ]
  },
  {
   "cell_type": "code",
   "execution_count": 15,
   "id": "c38b0602",
   "metadata": {},
   "outputs": [
    {
     "data": {
      "text/plain": [
       "9"
      ]
     },
     "execution_count": 15,
     "metadata": {},
     "output_type": "execute_result"
    }
   ],
   "source": [
    "## 4 clear the ith bit\n",
    "def cleartheithbit(N,i):\n",
    "    return N & ~(1<<i)\n",
    "cleartheithbit(13,2)"
   ]
  },
  {
   "cell_type": "code",
   "execution_count": 28,
   "id": "f748039a",
   "metadata": {},
   "outputs": [
    {
     "data": {
      "text/plain": [
       "15"
      ]
     },
     "execution_count": 28,
     "metadata": {},
     "output_type": "execute_result"
    }
   ],
   "source": [
    "## 5. toggle the ith bit if 0 then 1 and 1 then 0\n",
    "\n",
    "def toggle(N,i):\n",
    "    return N ^ (1<<i)\n",
    "toggle(13,1)"
   ]
  },
  {
   "cell_type": "code",
   "execution_count": null,
   "id": "446e29a5",
   "metadata": {},
   "outputs": [
    {
     "data": {
      "text/plain": [
       "12"
      ]
     },
     "execution_count": 29,
     "metadata": {},
     "output_type": "execute_result"
    }
   ],
   "source": [
    "## 6. removve the last sst bit(rightmost)\n",
    "\n",
    "def removelastsetbit(N,i):\n",
    "    return N & (N-1)\n",
    "removelastsetbit(13,2)"
   ]
  },
  {
   "cell_type": "code",
   "execution_count": 33,
   "id": "18bc6350",
   "metadata": {},
   "outputs": [
    {
     "data": {
      "text/plain": [
       "\"Yes it's power of 2\""
      ]
     },
     "execution_count": 33,
     "metadata": {},
     "output_type": "execute_result"
    }
   ],
   "source": [
    "## 7. check the given number is power of 2 or not:\n",
    "\n",
    "def powerOf2(N):\n",
    "    if N & (N-1)==0:\n",
    "        return \"Yes it's power of 2\"\n",
    "    else:\n",
    "        return \"No it's not power of 2\"\n",
    "powerOf2(32)"
   ]
  },
  {
   "cell_type": "code",
   "execution_count": 36,
   "id": "9a02e05c",
   "metadata": {},
   "outputs": [
    {
     "data": {
      "text/plain": [
       "3"
      ]
     },
     "execution_count": 36,
     "metadata": {},
     "output_type": "execute_result"
    }
   ],
   "source": [
    "## 8. count the number of set bits in a number\n",
    "\n",
    "def NoOfsetbits(n):\n",
    "    cnt = 0\n",
    "    while (n>1):\n",
    "        if (n%2==1):\n",
    "            cnt +=1\n",
    "        n = n//2\n",
    "    if (n==1):\n",
    "        cnt +=1\n",
    "    return cnt\n",
    "NoOfsetbits(13)"
   ]
  },
  {
   "cell_type": "code",
   "execution_count": 44,
   "id": "9669d2c3",
   "metadata": {},
   "outputs": [
    {
     "data": {
      "text/plain": [
       "3"
      ]
     },
     "execution_count": 44,
     "metadata": {},
     "output_type": "execute_result"
    }
   ],
   "source": [
    "## using bit-wise operation\n",
    "def bitcount(n):\n",
    "    cnt = 0\n",
    "    while n>0:\n",
    "        cnt += n & 1\n",
    "        n = n>>1\n",
    "    return cnt\n",
    "bitcount(13)"
   ]
  },
  {
   "cell_type": "code",
   "execution_count": null,
   "id": "9eb53d23",
   "metadata": {},
   "outputs": [],
   "source": []
  }
 ],
 "metadata": {
  "kernelspec": {
   "display_name": "base",
   "language": "python",
   "name": "python3"
  },
  "language_info": {
   "codemirror_mode": {
    "name": "ipython",
    "version": 3
   },
   "file_extension": ".py",
   "mimetype": "text/x-python",
   "name": "python",
   "nbconvert_exporter": "python",
   "pygments_lexer": "ipython3",
   "version": "3.12.4"
  }
 },
 "nbformat": 4,
 "nbformat_minor": 5
}
