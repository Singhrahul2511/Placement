{
 "cells": [
  {
   "cell_type": "code",
   "execution_count": 19,
   "id": "0634359b-7e5e-489c-9b74-af944a9e5883",
   "metadata": {},
   "outputs": [
    {
     "name": "stdout",
     "output_type": "stream",
     "text": [
      "0\n"
     ]
    }
   ],
   "source": [
    "## way of implementing hashing in oython\n",
    "\n",
    "def hash(num,arr):\n",
    "    count =0\n",
    "    for i in range(len(arr)):\n",
    "        if arr[i]==num:\n",
    "            count +=1\n",
    "    print(count)\n",
    "s =[2,3,5,5,6]\n",
    "hash(4555,s)\n",
    "        "
   ]
  },
  {
   "cell_type": "code",
   "execution_count": 37,
   "id": "2d432736-674b-4d35-8aa5-f5d78b851652",
   "metadata": {},
   "outputs": [
    {
     "name": "stdout",
     "output_type": "stream",
     "text": [
      "2\n"
     ]
    }
   ],
   "source": [
    "def hash(num,arr):\n",
    "    # for i in range(len(arr)):        \n",
    "        print(arr.count(num))\n",
    "s =[2,3,5,5,6]\n",
    "hash(5,s)\n",
    "        "
   ]
  },
  {
   "cell_type": "code",
   "execution_count": 47,
   "id": "8d8ddc7d-6127-42ee-bbda-5a5a7fc0f309",
   "metadata": {},
   "outputs": [
    {
     "name": "stdout",
     "output_type": "stream",
     "text": [
      "2\n"
     ]
    }
   ],
   "source": [
    "## applying the same thing on string\n",
    "def hash(n,s):\n",
    "    count =0\n",
    "    for i in range(len(s)):\n",
    "        if s[i]==n:\n",
    "            count +=1\n",
    "    print(count)\n",
    "s ='anacdefghijklmnopqrstuvwxyz'\n",
    "hash('a',s)"
   ]
  },
  {
   "cell_type": "code",
   "execution_count": 7,
   "id": "523d4f1f-7e2c-4040-8adb-bf51dffdc5de",
   "metadata": {},
   "outputs": [
    {
     "name": "stdin",
     "output_type": "stream",
     "text": [
      "enter n value 3\n",
      "enter array 1 2 3\n",
      "enter query 3 4 6\n"
     ]
    },
    {
     "ename": "ValueError",
     "evalue": "invalid literal for int() with base 10: '3 4 6'",
     "output_type": "error",
     "traceback": [
      "\u001b[1;31m---------------------------------------------------------------------------\u001b[0m",
      "\u001b[1;31mValueError\u001b[0m                                Traceback (most recent call last)",
      "Cell \u001b[1;32mIn[7], line 11\u001b[0m\n\u001b[0;32m      8\u001b[0m     hash_arr[num] \u001b[38;5;241m+\u001b[39m\u001b[38;5;241m=\u001b[39m \u001b[38;5;241m1\u001b[39m\n\u001b[0;32m     10\u001b[0m \u001b[38;5;66;03m# Query\u001b[39;00m\n\u001b[1;32m---> 11\u001b[0m q \u001b[38;5;241m=\u001b[39m \u001b[38;5;28;43mint\u001b[39;49m\u001b[43m(\u001b[49m\u001b[38;5;28;43minput\u001b[39;49m\u001b[43m(\u001b[49m\u001b[38;5;124;43m\"\u001b[39;49m\u001b[38;5;124;43menter query\u001b[39;49m\u001b[38;5;124;43m\"\u001b[39;49m\u001b[43m)\u001b[49m\u001b[43m)\u001b[49m\n\u001b[0;32m     12\u001b[0m \u001b[38;5;28;01mfor\u001b[39;00m _ \u001b[38;5;129;01min\u001b[39;00m \u001b[38;5;28mrange\u001b[39m(q):\n\u001b[0;32m     13\u001b[0m     number \u001b[38;5;241m=\u001b[39m \u001b[38;5;28mint\u001b[39m(\u001b[38;5;28minput\u001b[39m(\u001b[38;5;124m\"\u001b[39m\u001b[38;5;124mEnter number\u001b[39m\u001b[38;5;124m\"\u001b[39m))\n",
      "\u001b[1;31mValueError\u001b[0m: invalid literal for int() with base 10: '3 4 6'"
     ]
    }
   ],
   "source": [
    "# Input\n",
    "n = int(input('enter n value'))\n",
    "arr = list(map(int, input(\"enter array\").split()))\n",
    "\n",
    "# Precompute hash\n",
    "hash_arr = [0] * 13  # Assuming max value in arr is <= 12\n",
    "for num in arr:\n",
    "    hash_arr[num] += 1\n",
    "\n",
    "# Query\n",
    "q = int(input(\"enter query\"))\n",
    "for _ in range(q):\n",
    "    number = int(input(\"Enter number\"))\n",
    "    print(hash_arr[number])\n"
   ]
  },
  {
   "cell_type": "code",
   "execution_count": 17,
   "id": "bcbd6193-1645-45d7-a032-e8013111b2d9",
   "metadata": {},
   "outputs": [],
   "source": [
    "def countFreq(arr,n):\n",
    "    visited = [False]*n\n",
    "    for i in range(n):\n",
    "        if(visited[i] == True):\n",
    "            continue\n",
    "        count = 1\n",
    "        for j in range(i+1,n):\n",
    "            if (arr[i] == arr[j]):\n",
    "                visited[j] = True\n",
    "                count +=1\n",
    "        print(arr[i],count)\n",
    "if __name__ ==\" __main__\":\n",
    "    arr=[10,5,10,15,10,5]\n",
    "    n =len(arr)\n",
    "    countFreq(arr,n)\n"
   ]
  },
  {
   "cell_type": "code",
   "execution_count": 15,
   "id": "0dfe57f7-53ec-4b80-8f64-8a762004b1a3",
   "metadata": {},
   "outputs": [
    {
     "name": "stdout",
     "output_type": "stream",
     "text": [
      "10 3\n",
      "5 2\n",
      "15 1\n"
     ]
    }
   ],
   "source": [
    "def countFreq(arr, n):\n",
    "    visited = [False] * n\n",
    "    for i in range(n):\n",
    "        if (visited[i]== True):\n",
    "            continue\n",
    "        count = 1\n",
    "        for j in range(i + 1, n):\n",
    "            if arr[i] == arr[j]:\n",
    "                visited[j] = True\n",
    "                count += 1\n",
    "        print(arr[i], count)\n",
    "\n",
    "if __name__ == \"__main__\":\n",
    "    arr = [10, 5, 10, 15, 10, 5]\n",
    "    n = len(arr)\n",
    "    countFreq(arr, n)\n"
   ]
  },
  {
   "cell_type": "code",
   "execution_count": 11,
   "id": "f269f814-7fe9-4f89-b210-6893d99d2118",
   "metadata": {},
   "outputs": [
    {
     "name": "stdout",
     "output_type": "stream",
     "text": [
      "10 3\n",
      "5 2\n",
      "15 1\n"
     ]
    }
   ],
   "source": [
    "from collections import Counter\n",
    "\n",
    "arr = [10, 5, 10, 15, 10, 5]\n",
    "freq = Counter(arr)\n",
    "for num, count in freq.items():\n",
    "    print(num, count)\n"
   ]
  },
  {
   "cell_type": "code",
   "execution_count": 25,
   "id": "80f0c6d9-91b5-4d57-875e-ada0c9d7b08a",
   "metadata": {},
   "outputs": [
    {
     "data": {
      "text/plain": [
       "5"
      ]
     },
     "execution_count": 25,
     "metadata": {},
     "output_type": "execute_result"
    }
   ],
   "source": [
    "from typing import List\n",
    "\n",
    "class Solution:\n",
    "    def maxFrequency(self, nums: List[int], k: int) -> int:\n",
    "        nums.sort()\n",
    "        left = 0\n",
    "        total = 0\n",
    "        result = 0\n",
    "\n",
    "        for right in range(len(nums)):\n",
    "            total += nums[right]\n",
    "            while nums[right] * (right - left + 1) - total > k:\n",
    "                total -= nums[left]\n",
    "                left += 1\n",
    "            result = max(result, right - left + 1)\n",
    "\n",
    "        return result\n",
    "\n",
    "obj = Solution()\n",
    "tk = [22,3,4,3,4,3]\n",
    "kj = 5\n",
    "obj.maxFrequency(tk,kj)\n"
   ]
  },
  {
   "cell_type": "code",
   "execution_count": null,
   "id": "e9619cd1-817d-401c-a572-c4cbbd11855f",
   "metadata": {},
   "outputs": [],
   "source": []
  }
 ],
 "metadata": {
  "kernelspec": {
   "display_name": "Python 3 (ipykernel)",
   "language": "python",
   "name": "python3"
  },
  "language_info": {
   "codemirror_mode": {
    "name": "ipython",
    "version": 3
   },
   "file_extension": ".py",
   "mimetype": "text/x-python",
   "name": "python",
   "nbconvert_exporter": "python",
   "pygments_lexer": "ipython3",
   "version": "3.12.4"
  },
  "widgets": {
   "application/vnd.jupyter.widget-state+json": {
    "state": {},
    "version_major": 2,
    "version_minor": 0
   }
  }
 },
 "nbformat": 4,
 "nbformat_minor": 5
}
