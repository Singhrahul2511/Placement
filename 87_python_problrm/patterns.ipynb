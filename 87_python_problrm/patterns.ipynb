{
 "cells": [
  {
   "cell_type": "code",
   "execution_count": 21,
   "id": "4094368c-6de8-4d1f-8726-ef228704b7e3",
   "metadata": {},
   "outputs": [
    {
     "name": "stdin",
     "output_type": "stream",
     "text": [
      "Enterno of rows:  4\n"
     ]
    },
    {
     "name": "stdout",
     "output_type": "stream",
     "text": [
      "*****\n",
      "*****\n",
      "*****\n",
      "*****\n",
      "*****\n"
     ]
    }
   ],
   "source": [
    "n= int(input(\"Enterno of rows: \"))\n",
    "for i in range(0,n+1):\n",
    "    for j in range(0,n+1):\n",
    "        print('*', end ='')\n",
    "    print()"
   ]
  },
  {
   "cell_type": "code",
   "execution_count": 41,
   "id": "95aad2cf-b069-4b3f-a23f-e7235c183ad2",
   "metadata": {},
   "outputs": [
    {
     "name": "stdout",
     "output_type": "stream",
     "text": [
      "* * * * * \n",
      "* * * * * \n",
      "* * * * * \n",
      "* * * * * \n",
      "* * * * * \n"
     ]
    }
   ],
   "source": [
    "def nForest(n:int) ->None:\n",
    "    # Write your solution here.\n",
    "    for i in range(0,n+1):\n",
    "        for j in range(0,n+1):\n",
    "            print('*',end =' ')\n",
    "        print()\n",
    "nForest(4)"
   ]
  },
  {
   "cell_type": "code",
   "execution_count": 45,
   "id": "04c214ab-ef3e-4e09-920b-6401cb245ccd",
   "metadata": {},
   "outputs": [
    {
     "name": "stdout",
     "output_type": "stream",
     "text": [
      "55555"
     ]
    }
   ],
   "source": [
    "n=5\n",
    "for i in range(n):\n",
    "    print(n, end ='')\n",
    "    "
   ]
  },
  {
   "cell_type": "code",
   "execution_count": 4,
   "id": "008f345d-661d-4976-a9fc-8b47825d2b9b",
   "metadata": {},
   "outputs": [
    {
     "name": "stdout",
     "output_type": "stream",
     "text": [
      "\n",
      "* \n",
      "* * \n",
      "* * * \n",
      "* * * * \n"
     ]
    }
   ],
   "source": [
    "### 2. pattern\n",
    "n=5\n",
    "for i in range(0,n):\n",
    "    for j in range(0,i):\n",
    "        print('*',end=' ')\n",
    "    print()"
   ]
  },
  {
   "cell_type": "code",
   "execution_count": 21,
   "id": "1c0d85aa-46ce-42ce-945c-1b334dff50a4",
   "metadata": {},
   "outputs": [
    {
     "name": "stdout",
     "output_type": "stream",
     "text": [
      "1 \n",
      "1 2 \n",
      "1 2 3 \n"
     ]
    }
   ],
   "source": [
    "def nForest(n:int) ->None:\n",
    "    for i in range(1,n+1):\n",
    "        for j in range(1,i+1):\n",
    "            print(j,end=' ')\n",
    "        print()\n",
    "nForest(3)"
   ]
  },
  {
   "cell_type": "code",
   "execution_count": null,
   "id": "cf72c723-fd75-44cf-9768-87fe290e19e8",
   "metadata": {},
   "outputs": [],
   "source": []
  },
  {
   "cell_type": "code",
   "execution_count": 25,
   "id": "a4f38e75-d8e6-4e92-a59d-cc0027070417",
   "metadata": {},
   "outputs": [
    {
     "name": "stdout",
     "output_type": "stream",
     "text": [
      "1\n",
      "22\n",
      "333\n",
      "4444\n"
     ]
    }
   ],
   "source": [
    "def nForest(n:int) ->None:\n",
    "    for i in range(1,n+1):\n",
    "        for j in range(i):\n",
    "            print(i,end ='')\n",
    "        print()\n",
    "nForest(4)"
   ]
  },
  {
   "cell_type": "code",
   "execution_count": 27,
   "id": "69953ccb-e764-4223-9a5f-dd0fb8fac699",
   "metadata": {},
   "outputs": [
    {
     "name": "stdout",
     "output_type": "stream",
     "text": [
      "****\n",
      "***\n",
      "**\n",
      "*\n"
     ]
    }
   ],
   "source": [
    "def nForest(n:int) ->None:\n",
    "    for i in range(1,n+1):\n",
    "        for j in range(0,n-i+1):\n",
    "            print('*',end='')\n",
    "        print()\n",
    "nForest(4)"
   ]
  },
  {
   "cell_type": "code",
   "execution_count": 13,
   "id": "d4963702-ef62-4439-a07c-3430134cbcf2",
   "metadata": {},
   "outputs": [
    {
     "name": "stdout",
     "output_type": "stream",
     "text": [
      "**\n",
      "*\n"
     ]
    }
   ],
   "source": [
    "def starr(n:int):\n",
    "    for i in range(n,0,-1):\n",
    "        for j in range(i,0,-1):\n",
    "            print(\"*\",end = '')\n",
    "        print()\n",
    "starr(2)"
   ]
  },
  {
   "cell_type": "code",
   "execution_count": 77,
   "id": "10bf2811-6e47-4a0b-bc9e-92fb8fef3f71",
   "metadata": {},
   "outputs": [
    {
     "name": "stdout",
     "output_type": "stream",
     "text": [
      "    *    \n",
      "   ***   \n",
      "  *****  \n",
      " ******* \n",
      "*********\n"
     ]
    }
   ],
   "source": [
    "class Solution:\n",
    "    def printTriangle(self, N):\n",
    "        for i in range(0,N):\n",
    "            for j in range(0,N-i-1):\n",
    "                print(\"\",end =\" \")\n",
    "            for j in range(0,2*i+1):\n",
    "                print(\"*\",end =\"\")\n",
    "            for j in range(0,N-i-1):\n",
    "                print(\"\",end =\" \")\n",
    "            print()\n",
    "obj = Solution()\n",
    "obj.printTriangle(5)"
   ]
  },
  {
   "cell_type": "code",
   "execution_count": 91,
   "id": "62a0243f-f2b9-4c8e-96d5-f1523e36552a",
   "metadata": {},
   "outputs": [
    {
     "name": "stdin",
     "output_type": "stream",
     "text": [
      "Enter:  4\n"
     ]
    },
    {
     "name": "stdout",
     "output_type": "stream",
     "text": [
      "*******\n",
      " *****\n",
      "  ***\n",
      "   *\n"
     ]
    }
   ],
   "source": [
    "N = int(input(\"Enter: \"))\n",
    "for i in range(0,N):\n",
    "    for j in range(i):\n",
    "        print(\" \",end =\"\")\n",
    "    for j in range(0,2*N-(2*i+1)):\n",
    "        print(\"*\",end =\"\")\n",
    "    # for j in range(i):\n",
    "    #     print(\"\",end =\"\")\n",
    "    print()\n"
   ]
  },
  {
   "cell_type": "code",
   "execution_count": 109,
   "id": "c9944a72-8940-46db-a788-e8fcf80daf0a",
   "metadata": {},
   "outputs": [
    {
     "name": "stdout",
     "output_type": "stream",
     "text": [
      "    **********\n",
      "   *** *******\n",
      "  *****  *****\n",
      " *******   ***\n",
      "*********    *\n"
     ]
    }
   ],
   "source": [
    "class Solution:\n",
    "    def pattern(self,n):\n",
    "        for i in range(0,n):\n",
    "            for j in range(0,n-i-1):\n",
    "                print(\"\",end =\" \")\n",
    "            for j in range(0,2*i+1):\n",
    "                print('*',end =\"\")\n",
    "            for j in range(i):\n",
    "                print(\"\",end =\" \")\n",
    "            for j in range(0,2*n-(2*i+1)):\n",
    "                print(\"*\",end =\"\")\n",
    "            for j in range(i):\n",
    "                print(\"\",end =\"\")\n",
    "            print()\n",
    "\n",
    "\n",
    "obj=Solution()\n",
    "obj.pattern(5)"
   ]
  },
  {
   "cell_type": "code",
   "execution_count": 191,
   "id": "ae6ff085-0f79-422d-aeca-a0f2a1968186",
   "metadata": {},
   "outputs": [
    {
     "name": "stdout",
     "output_type": "stream",
     "text": [
      "    *\n",
      "   ***\n",
      "  *****\n",
      " *******\n",
      "*********\n",
      "*********\n",
      " *******\n",
      "  *****\n",
      "   ***\n",
      "    *\n"
     ]
    }
   ],
   "source": [
    "class Solution:\n",
    "    def triangle(self,n):\n",
    "        for i in range(0,n):\n",
    "            for j in range(0,n-1-i):\n",
    "                print(\"\",end =\" \")\n",
    "            for j in range(0,2*i+1):\n",
    "                print(\"*\",end =\"\")\n",
    "            print()\n",
    "    def inverse(self,n):\n",
    "        for i in range(0,n):\n",
    "            for j in range(i):\n",
    "                print(\"\",end =\" \")\n",
    "            for j in range(0,2*n-(2*i+1)):\n",
    "                print(\"*\",end =\"\")\n",
    "            print()\n",
    "    def combine(self,n):\n",
    "        self.triangle(n)\n",
    "        self.inverse(n)\n",
    "        \n",
    "            \n",
    "obj =Solution()\n",
    "obj.combine(5)"
   ]
  },
  {
   "cell_type": "code",
   "execution_count": 189,
   "id": "fb2f110c-5e29-4cbc-9041-ae2fbd253f28",
   "metadata": {},
   "outputs": [
    {
     "name": "stdout",
     "output_type": "stream",
     "text": [
      "    *\n",
      "   ***\n",
      "  *****\n",
      " *******\n",
      "*********\n",
      "*********\n",
      " *******\n",
      "  *****\n",
      "   ***\n",
      "    *\n"
     ]
    }
   ],
   "source": [
    "def triangle(n):\n",
    "    for i in range(0,n):\n",
    "        for j in range(0,n-1-i):\n",
    "            print(\"\",end =\" \")\n",
    "        for j in range(0,2*i+1):\n",
    "            print(\"*\",end =\"\")\n",
    "        print()\n",
    "def inverse(n):\n",
    "    for i in range(0,n):\n",
    "        for j in range(i):\n",
    "            print(\"\",end =\" \")\n",
    "        for j in range(0,2*n-(2*i+1)):\n",
    "            print(\"*\",end =\"\")\n",
    "        print()\n",
    "\n",
    "def combine(n):\n",
    "    triangle(n)\n",
    "    inverse(n)\n",
    "        \n",
    "            \n",
    "combine(5)"
   ]
  },
  {
   "cell_type": "code",
   "execution_count": 195,
   "id": "88134e66-cdd1-4728-8c62-7f80068e2875",
   "metadata": {},
   "outputs": [
    {
     "name": "stdout",
     "output_type": "stream",
     "text": [
      "    *\n",
      "   ***\n",
      "  *****\n",
      " *******\n",
      "*********\n",
      "*********\n",
      " *******\n",
      "  *****\n",
      "   ***\n",
      "    *\n"
     ]
    }
   ],
   "source": [
    "def nStarDiamond(n: int) -> None:\n",
    "    for i in range(0,n):\n",
    "        for j in range(0,n-i-1):\n",
    "            print(\"\",end=\" \")\n",
    "        for j in range(0,2*i+1):\n",
    "            print(\"*\",end =\"\")\n",
    "        for j in range(0,n-i-1):\n",
    "            print(\"\",end =\"\")\n",
    "        print()\n",
    "\n",
    "    for i in range(0,n):\n",
    "        for j in range(i):\n",
    "            print(\"\",end=\" \")\n",
    "        for j in range(0,2*n-1):\n",
    "            print(\"*\",end =\"\")\n",
    "        for j in range(i):\n",
    "            print(\"\",end =\"\")\n",
    "        print()\n",
    "nStarDiamond(5)"
   ]
  },
  {
   "cell_type": "code",
   "execution_count": 199,
   "id": "a0b00af7-463b-4e01-97c1-1749521328bc",
   "metadata": {},
   "outputs": [
    {
     "name": "stdout",
     "output_type": "stream",
     "text": [
      "     *\n",
      "    ***\n",
      "   *****\n",
      "  *******\n",
      " *********\n",
      "***********\n",
      "***********\n",
      " *********\n",
      "  *******\n",
      "   *****\n",
      "    ***\n",
      "     *\n"
     ]
    }
   ],
   "source": [
    "def nStarDiamond(n: int) -> None:\n",
    "    for i in range(n):\n",
    "        spaces = ' ' * (n - i - 1)\n",
    "        stars = '*' * (2 * i + 1)\n",
    "        print(spaces + stars)\n",
    "\n",
    "    for i in range(n):\n",
    "        spaces = ' ' * i\n",
    "        stars = '*' * (2 * (n - i - 1) + 1)\n",
    "        print(spaces + stars)\n",
    "\n",
    "nStarDiamond(6)"
   ]
  },
  {
   "cell_type": "code",
   "execution_count": 215,
   "id": "52a1f68b-9ed0-4f13-93d4-4c8209b8b35a",
   "metadata": {},
   "outputs": [
    {
     "name": "stdout",
     "output_type": "stream",
     "text": [
      "   *\n",
      "  ***\n",
      " *****\n",
      "*******\n",
      "*******\n",
      " *****\n",
      "  ***\n",
      "   *\n"
     ]
    }
   ],
   "source": [
    "import math\n",
    "\n",
    "def approxDiamond(n: int) -> None:\n",
    "    rows = int(math.sqrt(n))\n",
    "    \n",
    "    for i in range(rows):\n",
    "        spaces = ' ' * (rows - i - 1)\n",
    "        stars = '*' * (2 * i + 1)\n",
    "        print(spaces + stars)\n",
    "\n",
    "    for i in range(rows - 1, -1, -1):\n",
    "        spaces = ' ' * (rows - i - 1)\n",
    "        stars = '*' * (2 * i + 1)\n",
    "        print(spaces + stars)\n",
    "approxDiamond(18)"
   ]
  },
  {
   "cell_type": "code",
   "execution_count": 19,
   "id": "abec704c-c9dd-495d-b946-9bb6f8cad8f1",
   "metadata": {},
   "outputs": [
    {
     "name": "stdout",
     "output_type": "stream",
     "text": [
      "*\n",
      "**\n",
      "***\n",
      "****\n",
      "*****\n",
      "****\n",
      "***\n",
      "**\n",
      "*\n"
     ]
    }
   ],
   "source": [
    "n=5\n",
    "for i in range(1,2*n):\n",
    "    if i<=n:\n",
    "        stars =i\n",
    "    else:\n",
    "        stars =2*n-i\n",
    "    for j in range(stars):\n",
    "        print(\"*\",end =\"\")\n",
    "    print()"
   ]
  },
  {
   "cell_type": "code",
   "execution_count": 13,
   "id": "d9ab1b19-aee8-49d8-8f34-6e56c59ba0ba",
   "metadata": {},
   "outputs": [
    {
     "name": "stdout",
     "output_type": "stream",
     "text": [
      "*\n",
      "**\n",
      "***\n",
      "****\n",
      "*****\n",
      "****\n",
      "***\n",
      "**\n",
      "*\n"
     ]
    }
   ],
   "source": [
    "def pattern10(n: int) -> None:\n",
    "    for i in range(1, 2 * n):\n",
    "        stars = i if i <= n else 2 * n - i\n",
    "        for j in range(stars):\n",
    "            print(\"*\", end=\"\")\n",
    "        print()\n",
    "\n",
    "# Example usage\n",
    "pattern10(5)\n"
   ]
  },
  {
   "cell_type": "code",
   "execution_count": 27,
   "id": "3f3b7793-d3c3-42f4-add7-2f1ea6b39474",
   "metadata": {},
   "outputs": [
    {
     "name": "stdout",
     "output_type": "stream",
     "text": [
      "*\n",
      "**\n",
      "***\n",
      "****\n",
      "*****\n",
      "****\n",
      "***\n",
      "**\n",
      "*\n"
     ]
    }
   ],
   "source": [
    "n =5\n",
    "for i in range(1,2*n):\n",
    "    if i<n:\n",
    "        star = i\n",
    "    else:\n",
    "        star = 2*n-i\n",
    "    for j in range(star):\n",
    "        print(\"*\",end =\"\")\n",
    "    print()"
   ]
  },
  {
   "cell_type": "code",
   "execution_count": 33,
   "id": "090b58eb-864b-4fe1-b58e-5897596a13ef",
   "metadata": {},
   "outputs": [
    {
     "name": "stdout",
     "output_type": "stream",
     "text": [
      "\n",
      "1 \n",
      "0 1 \n",
      "1 0 1 \n",
      "0 1 0 1 \n",
      "1 0 1 0 1 \n"
     ]
    }
   ],
   "source": [
    "n =6\n",
    "start =1\n",
    "for i in range(0,n):\n",
    "    if i%2==0:\n",
    "        start =1\n",
    "    else:\n",
    "        start=0\n",
    "    for j in range(0,i):\n",
    "        start =1-start\n",
    "        print(f\"{start}\",end =\" \")\n",
    "    print()"
   ]
  },
  {
   "cell_type": "code",
   "execution_count": 37,
   "id": "0c1ecebd-413a-491c-94b4-8a40589af2a0",
   "metadata": {},
   "outputs": [
    {
     "name": "stdout",
     "output_type": "stream",
     "text": [
      "\n",
      "1\n",
      "01\n"
     ]
    }
   ],
   "source": [
    "def nBinaryTriangle(n: int) -> None:\n",
    "    start =1\n",
    "    for i in range(0,n):\n",
    "        if i%2==0:\n",
    "            start = 1\n",
    "        else:\n",
    "            start =0\n",
    "        for j in range(0,i):\n",
    "            start =1-start\n",
    "            print(f\"{start}\",end =\"\")\n",
    "        print()\n",
    "nBinaryTriangle(3)"
   ]
  },
  {
   "cell_type": "code",
   "execution_count": 65,
   "id": "11e0f036-e6b3-4237-b22b-04eb928c15cf",
   "metadata": {},
   "outputs": [
    {
     "name": "stdout",
     "output_type": "stream",
     "text": [
      "        \n",
      "1      1\n",
      "12    21\n",
      "123  321\n",
      "12344321\n"
     ]
    }
   ],
   "source": [
    "n =5\n",
    "space =2*(n-1)\n",
    "for i in range(0,n):\n",
    "    ## number\n",
    "    for j in range(1,i+1):\n",
    "        print(j,end =\"\")\n",
    "    ## space\n",
    "    for j in range(space):\n",
    "        print(\"\",end =\" \")\n",
    "    ## number\n",
    "    for j in range(i,0,-1):\n",
    "        print(j,end =\"\")\n",
    "    space -=2\n",
    "    print()"
   ]
  },
  {
   "cell_type": "code",
   "execution_count": 69,
   "id": "da584e35-8fca-46e4-b1fb-f0d676cf2613",
   "metadata": {},
   "outputs": [
    {
     "name": "stdout",
     "output_type": "stream",
     "text": [
      "    \n",
      "1  1\n",
      "1221\n"
     ]
    }
   ],
   "source": [
    "def numberCrown(n: int) -> None:\n",
    "    space =2*(n-1)\n",
    "    for i in range(0,n):\n",
    "\n",
    "        for j in range(1,i+1):\n",
    "            print(j,end =\"\")\n",
    "\n",
    "        for j in range(space):\n",
    "            print(\"\",end=\" \")\n",
    "\n",
    "        for j in range(i,0,-1):\n",
    "            print(j,end=\"\")\n",
    "        space -=2\n",
    "        print()\n",
    "numberCrown(3)"
   ]
  },
  {
   "cell_type": "code",
   "execution_count": 73,
   "id": "10db713e-8182-4efb-8af0-0db494e8e4dd",
   "metadata": {},
   "outputs": [
    {
     "name": "stdout",
     "output_type": "stream",
     "text": [
      "1\n",
      "23\n",
      "456\n",
      "78910\n"
     ]
    }
   ],
   "source": [
    "n =4\n",
    "num =1\n",
    "for i in range(1,n+1):\n",
    "    for j in range(1,i+1):\n",
    "        print(f\"{num}\",end =\"\")\n",
    "        num +=1\n",
    "    print()"
   ]
  },
  {
   "cell_type": "code",
   "execution_count": 83,
   "id": "065e7456-4591-451e-9fd5-8fe895b63603",
   "metadata": {},
   "outputs": [
    {
     "name": "stdout",
     "output_type": "stream",
     "text": [
      "A\n",
      "AB\n",
      "ABC\n",
      "ABCD\n",
      "ABCDE\n"
     ]
    }
   ],
   "source": [
    "n=5\n",
    "for i in range(1,n+1):\n",
    "    for j in range(i):\n",
    "        print(chr(ord('A')+j),end ='')\n",
    "    print()"
   ]
  },
  {
   "cell_type": "code",
   "execution_count": 97,
   "id": "1b5e60b7-777e-45f7-8669-0227b9711c5f",
   "metadata": {},
   "outputs": [
    {
     "name": "stdout",
     "output_type": "stream",
     "text": [
      "A B C D E \n",
      "A B C D \n",
      "A B C \n",
      "A B \n",
      "A \n",
      "\n"
     ]
    }
   ],
   "source": [
    "n= 6\n",
    "for i in range(0,n):\n",
    "    for j in range(0,n-i-1):\n",
    "        print(chr(ord('A')+j),end =\" \")\n",
    "    print()"
   ]
  },
  {
   "cell_type": "code",
   "execution_count": 101,
   "id": "40200387-10f4-4945-bc49-a4b954ea87ab",
   "metadata": {},
   "outputs": [
    {
     "name": "stdout",
     "output_type": "stream",
     "text": [
      "AB\n",
      "A\n",
      "\n"
     ]
    }
   ],
   "source": [
    "def nLetterTriangle(n: int):\n",
    "    for i in range(0,n):\n",
    "        for j in range(0,n-i-1):\n",
    "            print(chr(ord('A')+j),end =\"\")\n",
    "        print()\n",
    "\n",
    "nLetterTriangle(3)"
   ]
  },
  {
   "cell_type": "code",
   "execution_count": 27,
   "id": "e548281d-fc98-4855-8e1a-114f4bc523f9",
   "metadata": {},
   "outputs": [
    {
     "name": "stdout",
     "output_type": "stream",
     "text": [
      "\n",
      "B\n",
      "CC\n",
      "DDD\n",
      "EEEE\n"
     ]
    }
   ],
   "source": [
    "def alphaRamp(n: int) -> None:\n",
    "    for i in range(0,n):\n",
    "        for j in range(i):\n",
    "            print(chr(ord('A')+i),end =\"\")\n",
    "        print()\n",
    "alphaRamp(5)"
   ]
  },
  {
   "cell_type": "code",
   "execution_count": 25,
   "id": "96f06e1c-ae36-4745-95b6-623a4ce626ab",
   "metadata": {},
   "outputs": [
    {
     "name": "stdout",
     "output_type": "stream",
     "text": [
      "    A    \n",
      "   ABA   \n",
      "  ABCBA  \n",
      " ABCDCBA \n",
      "ABCDEDCBA\n"
     ]
    }
   ],
   "source": [
    "n= 5\n",
    "for i in range(0,n):\n",
    "    \n",
    "    for j in range(0,n-i-1):\n",
    "        print(\"\",end =\" \")\n",
    "    char =ord(\"A\")\n",
    "    breakpoint=i\n",
    "    for j in range(0,2*i+1):\n",
    "        print(chr(char),end =\"\")\n",
    "        if j<breakpoint:\n",
    "            char +=1\n",
    "        else:\n",
    "            char -=1\n",
    "    for j in range(0,n-i-1):\n",
    "        print(\"\",end =\" \")\n",
    "    print()"
   ]
  },
  {
   "cell_type": "code",
   "execution_count": 13,
   "id": "b10a6a73-5baf-46db-9820-59ad77c5c552",
   "metadata": {},
   "outputs": [
    {
     "name": "stdout",
     "output_type": "stream",
     "text": [
      "    A    \n",
      "   ABA   \n",
      "  ABCBA  \n",
      " ABCDCBA \n",
      "ABCDEDCBA\n"
     ]
    }
   ],
   "source": [
    "n = 5\n",
    "for i in range(n):\n",
    "    # Leading spaces\n",
    "    for j in range(n - i - 1):\n",
    "        print(\" \", end=\"\")\n",
    "\n",
    "    char = ord('A')\n",
    "    breakpoint = i\n",
    "    for j in range(2 * i + 1):\n",
    "        print(chr(char), end=\"\")\n",
    "        if j < breakpoint:\n",
    "            char += 1\n",
    "        else:\n",
    "            char -= 1\n",
    "\n",
    "    # Trailing spaces (optional, visual symmetry)\n",
    "    for j in range(n - i - 1):\n",
    "        print(\" \", end=\"\")\n",
    "\n",
    "    print()\n"
   ]
  },
  {
   "cell_type": "code",
   "execution_count": 35,
   "id": "9aa98cc7-905a-4d03-a72b-2e42efcb5af0",
   "metadata": {},
   "outputs": [
    {
     "name": "stdout",
     "output_type": "stream",
     "text": [
      "        A         \n",
      "      A B A       \n",
      "    A B C B A     \n",
      "  A B C D C B A   \n",
      "A B C D E D C B A \n"
     ]
    }
   ],
   "source": [
    "def alphaHill(n: int):\n",
    "    for i in range(0,n):\n",
    "        for j in range(0,n-i-1):\n",
    "            print(\" \",end =\" \")\n",
    "\n",
    "        char= ord('A')\n",
    "        brkpoint= i\n",
    "        for j in range(0,2*i+1):\n",
    "            print(chr(char),end =\" \")\n",
    "            if j<brkpoint:\n",
    "                char +=1\n",
    "            else:\n",
    "                char -=1\n",
    "        for j in range(0,n-i-1):\n",
    "            print(\" \",end =\" \")\n",
    "        print()\n",
    "\n",
    "alphaHill((5))"
   ]
  },
  {
   "cell_type": "code",
   "execution_count": 109,
   "id": "dc9f6dde-27d4-40c3-8336-edf4d098da9b",
   "metadata": {},
   "outputs": [
    {
     "name": "stdout",
     "output_type": "stream",
     "text": [
      "E\n",
      "DE\n",
      "CDE\n",
      "BCDE\n",
      "ABCDE\n"
     ]
    }
   ],
   "source": [
    "n=5\n",
    "for i in range(0,n):\n",
    "    for j in range(ord('E')-i,ord('E')+1):\n",
    "        print(chr(j),end =\"\")\n",
    "    print()\n",
    "        \n",
    "        "
   ]
  },
  {
   "cell_type": "code",
   "execution_count": 135,
   "id": "0cc2cd46-43f0-420f-9188-3e4714270176",
   "metadata": {},
   "outputs": [
    {
     "name": "stdout",
     "output_type": "stream",
     "text": [
      "E\n",
      "ED\n",
      "EDC\n",
      "EDCB\n",
      "EDCBA\n"
     ]
    }
   ],
   "source": [
    "n= 5\n",
    "for i in range(0,n):\n",
    "    for j in range(n-1,n-2-i,-1):\n",
    "        print(chr(ord('A')+j),end =\"\")\n",
    "    print()"
   ]
  },
  {
   "cell_type": "code",
   "execution_count": 17,
   "id": "fb5689a2-db46-47bc-80b4-34aa794c74e2",
   "metadata": {},
   "outputs": [
    {
     "name": "stdout",
     "output_type": "stream",
     "text": [
      "******\n",
      "**  **\n",
      "*    *\n",
      "*    *\n",
      "**  **\n",
      "******\n"
     ]
    }
   ],
   "source": [
    "n=3\n",
    "space =0\n",
    "for i in range(0,n):\n",
    "    for j in range(0,n-i):\n",
    "        print(\"*\",end=\"\")\n",
    "    for j in range(0,space):\n",
    "        print(\"\",end =\" \")\n",
    "    for j in range(0,n-i):\n",
    "        print(\"*\",end =\"\")\n",
    "    space +=2\n",
    "    print()\n",
    "space1=2*n-2\n",
    "for i in range(0,n):\n",
    "    for j in range(0,i+1):\n",
    "        print(\"*\",end =\"\")\n",
    "    for j in range(0,space1):\n",
    "        print(\"\",end =\" \")\n",
    "    for j in range(0,i+1):\n",
    "        print(\"*\",end =\"\")\n",
    "    space1 -=2\n",
    "    print()"
   ]
  },
  {
   "cell_type": "code",
   "execution_count": 23,
   "id": "ce96d100-701b-4c3a-bd3c-817f08bc205f",
   "metadata": {},
   "outputs": [
    {
     "name": "stdout",
     "output_type": "stream",
     "text": [
      "* * * * * * \n",
      "* *     * * \n",
      "*         * \n",
      "*         * \n",
      "* *     * * \n",
      "* * * * * * \n"
     ]
    }
   ],
   "source": [
    "def symmetry(n: int):\n",
    "    space =0\n",
    "    for i in range(0,n):\n",
    "        for j in range(0,n-i):\n",
    "            print('*',end =\" \")\n",
    "        for j in range(0,space):\n",
    "            print(\" \",end =\" \")\n",
    "        for j in range(0,n-i):\n",
    "            print('*',end =\" \")\n",
    "        space +=2\n",
    "        print()\n",
    "    space1 =2*n-2\n",
    "    for i in range(0,n):\n",
    "        for j in range(0,i+1):\n",
    "            print('*',end =\" \")\n",
    "        for j in range(0,space1):\n",
    "            print(\" \",end =\" \")\n",
    "        for j in range(0,i+1):\n",
    "            print('*',end =\" \")\n",
    "        space1 -=2\n",
    "        print()\n",
    "\n",
    "\n",
    "symmetry(3)\n"
   ]
  },
  {
   "cell_type": "code",
   "execution_count": 99,
   "id": "2fec4a4b-443f-44c1-aeb0-79bdea2e4b6c",
   "metadata": {},
   "outputs": [
    {
     "name": "stdout",
     "output_type": "stream",
     "text": [
      "*    *\n",
      "**  **\n",
      "******\n",
      "**  **\n",
      "*    *\n"
     ]
    }
   ],
   "source": [
    "n=3\n",
    "space =2*n-2\n",
    "for i in range(1,2*n):\n",
    "    if i<n:\n",
    "        star=i\n",
    "    else:\n",
    "        star = 2*n-i\n",
    "\n",
    "    for j in range(star):\n",
    "        print(\"*\",end='')\n",
    "\n",
    "    for j in range(space):\n",
    "        print('',end =' ')\n",
    "    for j in range(star):\n",
    "        print('*',end ='')\n",
    "    if i<n:\n",
    "        space -=2\n",
    "    else:\n",
    "        space +=2\n",
    "    print()"
   ]
  },
  {
   "cell_type": "code",
   "execution_count": 41,
   "id": "7c7caa68-94ea-4378-b41f-6a88d2f52903",
   "metadata": {},
   "outputs": [
    {
     "name": "stdout",
     "output_type": "stream",
     "text": [
      "*        *\n",
      "**      **\n",
      "***    ***\n",
      "****  ****\n",
      "**********\n",
      "****  ****\n",
      "***    ***\n",
      "**      **\n",
      "*        *\n"
     ]
    }
   ],
   "source": [
    "n = 5\n",
    "space = 2 * n - 2\n",
    "\n",
    "for i in range(1, 2 * n):\n",
    "    # Determine number of stars\n",
    "    if i <= n:\n",
    "        star = i\n",
    "    else:\n",
    "        star = 2 * n - i\n",
    "\n",
    "    # Print left stars\n",
    "    for j in range(star):\n",
    "        print(\"*\", end='')\n",
    "\n",
    "    # Print spaces\n",
    "    for j in range(space):\n",
    "        print(' ', end='')\n",
    "\n",
    "    # Print right stars\n",
    "    for j in range(star):\n",
    "        print(\"*\", end='')\n",
    "\n",
    "    # Adjust space\n",
    "    if i < n:\n",
    "        space -= 2\n",
    "    else:\n",
    "        space += 2\n",
    "\n",
    "    print()\n"
   ]
  },
  {
   "cell_type": "code",
   "execution_count": 109,
   "id": "76637d32-8bcd-4bf4-97c7-24c64cb7a820",
   "metadata": {},
   "outputs": [
    {
     "name": "stdout",
     "output_type": "stream",
     "text": [
      "*    *\n",
      "**  **\n",
      "******\n",
      "**  **\n",
      "*    *\n"
     ]
    }
   ],
   "source": [
    "def symmetry(n: int):\n",
    "    space =2*n-2\n",
    "    for i in range(1,2*n):\n",
    "        if i<n:\n",
    "            star=i\n",
    "        else:\n",
    "            star=2*n-i\n",
    "        for j in range(star):\n",
    "            print('*',end ='')\n",
    "        for j in range(space):\n",
    "            print('',end =' ')\n",
    "        for j in range(star):\n",
    "            print('*',end ='')\n",
    "        if i<n:\n",
    "            space -=2\n",
    "        else:\n",
    "            space +=2\n",
    "        print()\n",
    "symmetry(3)"
   ]
  },
  {
   "cell_type": "code",
   "execution_count": 131,
   "id": "9d850914-a8aa-433b-a256-c780f45579db",
   "metadata": {},
   "outputs": [
    {
     "name": "stdout",
     "output_type": "stream",
     "text": [
      "* * * * \n",
      "*     * \n",
      "*     * \n",
      "* * * * \n"
     ]
    }
   ],
   "source": [
    "n=4\n",
    "for i in range(0,n):\n",
    "    for j in range(0,n):\n",
    "        if (i==0 or j==0 or i==n-1 or j==n-1):\n",
    "            print('*',end =' ')\n",
    "        else:\n",
    "            print(' ',end =' ')\n",
    "    print()"
   ]
  },
  {
   "cell_type": "code",
   "execution_count": 147,
   "id": "18c807a8-8197-4d13-893a-dc0dc6009c3a",
   "metadata": {},
   "outputs": [
    {
     "name": "stdout",
     "output_type": "stream",
     "text": [
      "4444444\n",
      "4333334\n",
      "4322234\n",
      "4321234\n",
      "4322234\n",
      "4333334\n",
      "4444444\n"
     ]
    }
   ],
   "source": [
    "for i in range(0,2*n-1):\n",
    "    for j in range(0,2*n-1):\n",
    "        top = i\n",
    "        left =j\n",
    "        right =(2*n-2)-j\n",
    "        down =(2*n-2)-i\n",
    "        print(n-(min(top,left,right,down)),end ='')\n",
    "    print()"
   ]
  },
  {
   "cell_type": "code",
   "execution_count": null,
   "id": "ed812fcf-2eed-426e-8a06-64ffc7f29f0b",
   "metadata": {},
   "outputs": [],
   "source": []
  }
 ],
 "metadata": {
  "kernelspec": {
   "display_name": "Python 3 (ipykernel)",
   "language": "python",
   "name": "python3"
  },
  "language_info": {
   "codemirror_mode": {
    "name": "ipython",
    "version": 3
   },
   "file_extension": ".py",
   "mimetype": "text/x-python",
   "name": "python",
   "nbconvert_exporter": "python",
   "pygments_lexer": "ipython3",
   "version": "3.12.4"
  },
  "widgets": {
   "application/vnd.jupyter.widget-state+json": {
    "state": {},
    "version_major": 2,
    "version_minor": 0
   }
  }
 },
 "nbformat": 4,
 "nbformat_minor": 5
}
